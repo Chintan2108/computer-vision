{
 "cells": [
  {
   "cell_type": "markdown",
   "metadata": {},
   "source": [
    "# Edge Detection & Morphological Transform"
   ]
  },
  {
   "cell_type": "code",
   "execution_count": null,
   "metadata": {},
   "outputs": [],
   "source": [
    "# Importing libraries\n",
    "import cv2\n",
    "import sys\n",
    "import imutils\n",
    "import numpy as np\n",
    "import matplotlib.pyplot as plt\n",
    "import matplotlib.gridspec as gridspec\n",
    "np.set_printoptions(threshold=sys.maxsize, linewidth = 120)"
   ]
  },
  {
   "cell_type": "markdown",
   "metadata": {},
   "source": [
    "## Edge Detection"
   ]
  },
  {
   "cell_type": "code",
   "execution_count": null,
   "metadata": {},
   "outputs": [],
   "source": [
    "path = 'path/to/your/image'"
   ]
  },
  {
   "cell_type": "code",
   "execution_count": null,
   "metadata": {},
   "outputs": [],
   "source": [
    "# Reading a sample image\n",
    "img = cv2.imread(path)\n",
    "img = cv2.cvtColor(img, cv2.COLOR_BGR2GRAY)\n",
    "image = img.copy()"
   ]
  },
  {
   "cell_type": "code",
   "execution_count": null,
   "metadata": {},
   "outputs": [],
   "source": [
    "def simple_edgeDetection(im, direction = 'horizontal', kernel_size = 3):\n",
    "    if(direction == 'horizontal'):\n",
    "        gradientx = cv2.Sobel(im, cv2.CV_64F, 0, 1, ksize=kernel_size)\n",
    "        return gradientx\n",
    "    elif(direction == 'vertical'):\n",
    "        gradienty = cv2.Sobel(im, cv2.CV_64F, 1, 0, ksize=kernel_size)\n",
    "        return gradienty\n",
    "    else:\n",
    "        print('This is a simple edge detection function. You are encouraged to right your own for more functionality')"
   ]
  },
  {
   "cell_type": "code",
   "execution_count": null,
   "metadata": {},
   "outputs": [],
   "source": [
    "edge_im = simple_edgeDetection(image, direction = 'yourDirectionHere', kernel_size = kernelSizeHere)\n",
    "plt.imshow(edge_im)\n",
    "plt.title('Displaying edge image')\n",
    "plt.show()"
   ]
  },
  {
   "cell_type": "markdown",
   "metadata": {},
   "source": [
    "## Morphological Transforms"
   ]
  },
  {
   "cell_type": "code",
   "execution_count": null,
   "metadata": {},
   "outputs": [],
   "source": [
    "path = 'path/to/your/image'"
   ]
  },
  {
   "cell_type": "code",
   "execution_count": null,
   "metadata": {},
   "outputs": [],
   "source": [
    "# Reading a sample image\n",
    "img = cv2.imread(path)\n",
    "plt.imshow(img)\n",
    "plt.show()\n",
    "img = cv2.cvtColor(img, cv2.COLOR_BGR2GRAY)\n",
    "ret, img = cv2.threshold(img, 127, 255, cv2.THRESH_BINARY)\n",
    "image = img.copy()"
   ]
  },
  {
   "cell_type": "code",
   "execution_count": null,
   "metadata": {},
   "outputs": [],
   "source": [
    "# Morphological opening is erosion followed by dilation\n",
    "# Morphological closing is dilation followed by erosion\n",
    "def morph_operations(im, kernel = cv2.getStructuringElement(cv2.MORPH_CROSS, (3, 3)), eroIter = 1,\n",
    "                     dilIter = 1, opening = True):\n",
    "    temp = im\n",
    "    if(opening):\n",
    "        temp = cv2.erode(temp, kernel, iterations = eroIter)\n",
    "        temp = cv2.dilate(temp, kernel, iterations = dilIter)\n",
    "    else:\n",
    "        temp = cv2.dilate(temp, kernel, iterations = dilIter)\n",
    "        temp = cv2.erode(temp, kernel, iterations = eroIter)\n",
    "    \n",
    "    return temp"
   ]
  },
  {
   "cell_type": "code",
   "execution_count": null,
   "metadata": {},
   "outputs": [],
   "source": [
    "kernelType = cv2.MORPH_CROSS\n",
    "kernelSize = 5\n",
    "kernel = cv2.getStructuringElement(kernelType, (kernelSize, kernelSize))\n",
    "morph_im = morph_operations(image, kernel = kernel)\n",
    "plt.imshow(morph_im)\n",
    "plt.title('Displaying image after morphological operations')\n",
    "plt.show()"
   ]
  },
  {
   "cell_type": "code",
   "execution_count": null,
   "metadata": {},
   "outputs": [],
   "source": []
  }
 ],
 "metadata": {
  "kernelspec": {
   "display_name": "Python 3",
   "language": "python",
   "name": "python3"
  },
  "language_info": {
   "codemirror_mode": {
    "name": "ipython",
    "version": 3
   },
   "file_extension": ".py",
   "mimetype": "text/x-python",
   "name": "python",
   "nbconvert_exporter": "python",
   "pygments_lexer": "ipython3",
   "version": "3.5.4"
  }
 },
 "nbformat": 4,
 "nbformat_minor": 2
}
