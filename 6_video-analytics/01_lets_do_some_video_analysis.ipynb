{
 "cells": [
  {
   "cell_type": "markdown",
   "metadata": {},
   "source": [
    "https://people.revoledu.com/kardi/tutorial/Python/Video+Analysis+using+OpenCV-Python.html#:~:text=Video%20Analysis%20using%20OpenCV%2DPython&text=This%20tutorial%20is%20a%20practice,numpy%20and%20math%20modules%20installed."
   ]
  },
  {
   "cell_type": "code",
   "execution_count": 49,
   "metadata": {},
   "outputs": [],
   "source": [
    "import cv2\n",
    "import numpy as np\n",
    "import matplotlib.pyplot as plt"
   ]
  },
  {
   "cell_type": "code",
   "execution_count": 50,
   "metadata": {},
   "outputs": [],
   "source": [
    "cap = cv2.VideoCapture('..//assets//videos//juggling.mp4')\n",
    "vs = cap"
   ]
  },
  {
   "cell_type": "code",
   "execution_count": 51,
   "metadata": {},
   "outputs": [
    {
     "name": "stdout",
     "output_type": "stream",
     "text": [
      "Height and Width of the frame 2160 3840\n"
     ]
    }
   ],
   "source": [
    "w = int(vs.get(cv2.CAP_PROP_FRAME_WIDTH))\n",
    "h = int(vs.get(cv2.CAP_PROP_FRAME_HEIGHT))\n",
    "print('Height and Width of the frame {} {}'.format(h, w))"
   ]
  },
  {
   "cell_type": "code",
   "execution_count": 52,
   "metadata": {},
   "outputs": [
    {
     "data": {
      "image/png": "[encoded data removed]",
      "text/plain": [
       "<Figure size 432x288 with 1 Axes>"
      ]
     },
     "metadata": {
      "needs_background": "light"
     },
     "output_type": "display_data"
    }
   ],
   "source": [
    "base_mask = np.zeros((h, w))\n",
    "base_mask[200:800] = 1\n",
    "plt.imshow(base_mask, cmap = 'gray')\n",
    "plt.show()"
   ]
  },
  {
   "cell_type": "code",
   "execution_count": 53,
   "metadata": {},
   "outputs": [],
   "source": [
    "hsv_lower = (0, 48, 0)\n",
    "hsv_higher = (180, 255, 75)"
   ]
  },
  {
   "cell_type": "code",
   "execution_count": 54,
   "metadata": {},
   "outputs": [],
   "source": [
    "def processAndShow(vs, func = None):\n",
    "        \n",
    "    while vs.isOpened():\n",
    "        ret, fr = vs.read()\n",
    "        \n",
    "        if ret == False:\n",
    "            break\n",
    "        f = 0.2\n",
    "        fr = cv2.resize(fr, (int(vs.get(cv2.CAP_PROP_FRAME_WIDTH)*f), int(vs.get(cv2.CAP_PROP_FRAME_HEIGHT)*f)), fx = f, fy = f)\n",
    "        if func is not None:\n",
    "            fr = func(fr)\n",
    "        \n",
    "        cv2.imshow('frame', fr)\n",
    "        \n",
    "        if cv2.waitKey(1) & 0xFF == ord('q'):\n",
    "            break\n",
    "#     vs.release()\n",
    "    cv2.destroyAllWindows()"
   ]
  },
  {
   "cell_type": "code",
   "execution_count": 55,
   "metadata": {},
   "outputs": [],
   "source": [
    "def proc(fr, backSub = cv2.createBackgroundSubtractorMOG2(), detector = cv2.SimpleBlobDetector()):\n",
    "    fr_ = backSub.apply(fr)\n",
    "    \n",
    "#     fr_ = cv2.erode(fr_, cv2.getStructuringElement(cv2.MORPH_ELLIPSE,(5,5)), iterations = 5)\n",
    "#     fr_ = cv2.dilate(fr_, cv2.getStructuringElement(cv2.MORPH_ELLIPSE,(7,7)), iterations = 5)\n",
    "    \n",
    "    circles = cv2.HoughCircles(fr_, cv2.HOUGH_GRADIENT, 1.2, 500)\n",
    "    # ensure at least some circles were found\n",
    "    if circles is not None:\n",
    "        # convert the (x, y) coordinates and radius of the circles to integers\n",
    "        circles = np.round(circles[0, :]).astype(\"int\")\n",
    "        # loop over the (x, y) coordinates and radius of the circles\n",
    "        for (x, y, r) in circles:\n",
    "            print(r)\n",
    "            # draw the circle in the output image, then draw a rectangle\n",
    "            # corresponding to the center of the circle\n",
    "            cv2.circle(fr, (x, y), r, (0, 255, 0), 4)\n",
    "            cv2.rectangle(fr, (x - 5, y - 5), (x + 5, y + 5), (0, 128, 255), -1)\n",
    "\n",
    "    return fr"
   ]
  },
  {
   "cell_type": "code",
   "execution_count": null,
   "metadata": {},
   "outputs": [
    {
     "name": "stdout",
     "output_type": "stream",
     "text": [
      "185\n",
      "145\n",
      "157\n",
      "123\n",
      "145\n",
      "124\n",
      "134\n",
      "156\n",
      "154\n",
      "177\n",
      "175\n"
     ]
    }
   ],
   "source": [
    "processAndShow(vs, proc)"
   ]
  },
  {
   "cell_type": "code",
   "execution_count": null,
   "metadata": {},
   "outputs": [],
   "source": []
  }
 ],
 "metadata": {
  "kernelspec": {
   "display_name": "py36tf",
   "language": "python",
   "name": "py36tf"
  },
  "language_info": {
   "codemirror_mode": {
    "name": "ipython",
    "version": 3
   },
   "file_extension": ".py",
   "mimetype": "text/x-python",
   "name": "python",
   "nbconvert_exporter": "python",
   "pygments_lexer": "ipython3",
   "version": "3.6.8"
  }
 },
 "nbformat": 4,
 "nbformat_minor": 4
}
