{
 "cells": [
  {
   "cell_type": "markdown",
   "metadata": {},
   "source": [
    "# What is _Image Segmentation_ ?\n",
    "\n",
    "segmenting an image means partitioning an image into different regions of homogenous pixels such that:\n",
    "\n",
    "- union of all regions = the image\n",
    "- each region is homogeneous. homogeneity can be based on a condition\n",
    "- any pair of distinct regions is not homogeneous\n",
    "- regions shuld have low internal variance\n",
    "- regions should be made of spatially contiguous pixels\n",
    "\n",
    "These points are derived from Pavlidis's definitions of segmentation in [1]"
   ]
  },
  {
   "cell_type": "markdown",
   "metadata": {},
   "source": [
    "# How does segmentation help us ?\n",
    "\n",
    "Segmentation helps a machine interpret image easily and more accurately for complex tasks such as self driving car"
   ]
  },
  {
   "cell_type": "markdown",
   "metadata": {},
   "source": [
    "# References\n",
    "\n",
    "[1]. https://www2.cs.duke.edu/courses/spring06/cps296.1/handouts/Horowitz%20Pavlidis%201976.pdf"
   ]
  }
 ],
 "metadata": {
  "kernelspec": {
   "display_name": "Python 3",
   "language": "python",
   "name": "python3"
  },
  "language_info": {
   "codemirror_mode": {
    "name": "ipython",
    "version": 3
   },
   "file_extension": ".py",
   "mimetype": "text/x-python",
   "name": "python",
   "nbconvert_exporter": "python",
   "pygments_lexer": "ipython3",
   "version": "3.7.4"
  }
 },
 "nbformat": 4,
 "nbformat_minor": 2
}
