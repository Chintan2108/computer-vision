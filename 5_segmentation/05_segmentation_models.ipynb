{
 "cells": [
  {
   "cell_type": "markdown",
   "metadata": {},
   "source": [
    "# Using Segmentation_Models \n",
    "\n",
    "We will use [segmentation_models](https://github.com/qubvel/segmentation_models) package to use several pretrained models to do image segmentation"
   ]
  },
  {
   "cell_type": "markdown",
   "metadata": {},
   "source": [
    "## Reading Dataset"
   ]
  },
  {
   "cell_type": "code",
   "execution_count": 1,
   "metadata": {},
   "outputs": [
    {
     "name": "stderr",
     "output_type": "stream",
     "text": [
      "Using TensorFlow backend.\n"
     ]
    }
   ],
   "source": [
    "import os\n",
    "os.environ['CUDA_VISIBLE_DEVICES'] = '0'\n",
    "\n",
    "import cv2\n",
    "import keras\n",
    "import random\n",
    "import imutils\n",
    "import numpy as np\n",
    "from tqdm import tqdm_notebook\n",
    "import matplotlib.pyplot as plt\n",
    "from sklearn.model_selection import train_test_split"
   ]
  },
  {
   "cell_type": "code",
   "execution_count": 2,
   "metadata": {},
   "outputs": [],
   "source": [
    "DATA_DIR = '..//data'"
   ]
  },
  {
   "cell_type": "code",
   "execution_count": 3,
   "metadata": {},
   "outputs": [],
   "source": [
    "seed = 5"
   ]
  },
  {
   "cell_type": "code",
   "execution_count": 4,
   "metadata": {},
   "outputs": [],
   "source": [
    "# images = os.listdir(os.path.join(DATA_DIR, 'images', 'bird')) + os.listdir(os.path.join(DATA_DIR, 'images', 'insect'))\n",
    "# masks = os.listdir(os.path.join(DATA_DIR, 'labels', 'bird')) + os.listdir(os.path.join(DATA_DIR, 'labels', 'insect'))\n",
    "# labels = [1]*len(os.listdir(os.path.join(DATA_DIR, 'labels', 'bird'))) + [2]*len(os.listdir(os.path.join(DATA_DIR, 'labels', 'insect')))"
   ]
  },
  {
   "cell_type": "code",
   "execution_count": 5,
   "metadata": {},
   "outputs": [],
   "source": [
    "# indices = np.arange(len(images))"
   ]
  },
  {
   "cell_type": "code",
   "execution_count": 6,
   "metadata": {},
   "outputs": [],
   "source": [
    "# assert len(images) == len(masks)\n",
    "# assert len(masks) == len(labels)"
   ]
  },
  {
   "cell_type": "code",
   "execution_count": 7,
   "metadata": {},
   "outputs": [],
   "source": [
    "# widths = []\n",
    "# heights = []\n",
    "# for i, image in tqdm_notebook(enumerate(images), total = len(images)):\n",
    "#     im = cv2.imread('..//data//images//{}//{}'.format('bird' if labels[i]==1 else 'insect', image))\n",
    "    \n",
    "#     widths.append(im.shape[0])\n",
    "#     heights.append(im.shape[1])"
   ]
  },
  {
   "cell_type": "code",
   "execution_count": 8,
   "metadata": {},
   "outputs": [],
   "source": [
    "# f, ax = plt.subplots(1, 2, figsize = (15, 5))\n",
    "# ax[0].hist(widths)\n",
    "# ax[1].hist(heights)\n",
    "# plt.show()"
   ]
  },
  {
   "cell_type": "markdown",
   "metadata": {},
   "source": [
    "## Preprocessing Dataset"
   ]
  },
  {
   "cell_type": "code",
   "execution_count": 9,
   "metadata": {},
   "outputs": [],
   "source": [
    "# def pad_images_to_same_size(images):\n",
    "#     \"\"\"\n",
    "#     :param images: sequence of images\n",
    "#     :return: list of images padded so that all images have same width and height (max width and height are used)\n",
    "#     \"\"\"\n",
    "#     width_max = 640\n",
    "#     height_max = 640\n",
    "    \n",
    "#     for img in images:\n",
    "#         h, w = img.shape[0], img.shape[1]\n",
    "#         width_max = max(width_max, w)\n",
    "#         height_max = max(height_max, h)\n",
    "\n",
    "#     images_padded = []\n",
    "#     for img in images:\n",
    "#         h, w = img.shape[0], img.shape[1]\n",
    "#         diff_vert = height_max - h\n",
    "#         pad_top = diff_vert//2\n",
    "#         pad_bottom = diff_vert - pad_top\n",
    "#         diff_hori = width_max - w\n",
    "#         pad_left = diff_hori//2\n",
    "#         pad_right = diff_hori - pad_left\n",
    "#         img_padded = cv2.copyMakeBorder(img, pad_top, pad_bottom, pad_left, pad_right, cv2.BORDER_CONSTANT, value=0)\n",
    "#         assert img_padded.shape[:2] == (height_max, width_max)\n",
    "#         images_padded.append(img_padded)\n",
    "\n",
    "#     return images_padded\n",
    "\n",
    "# def readpgm(ID):\n",
    "        \n",
    "#         with open(ID) as f:\n",
    "\n",
    "#             lines = f.readlines()\n",
    "\n",
    "#         # This ignores commented lines\n",
    "\n",
    "#         for l in list(lines):\n",
    "\n",
    "#             if l[0] == '#':\n",
    "\n",
    "#                 lines.remove(l)\n",
    "\n",
    "#         # here,it makes sure it is ASCII format (P2)\n",
    "\n",
    "#         assert lines[0].strip() == 'P2' \n",
    "\n",
    "#         # Converts data to a list of integers\n",
    "\n",
    "#         data = []\n",
    "\n",
    "#         for line in lines[1:]:\n",
    "\n",
    "#             data.extend([int(c) for c in line.split()])\n",
    "\n",
    "#         return np.array(data[3:]).reshape((data[1],data[0]))*255"
   ]
  },
  {
   "cell_type": "code",
   "execution_count": 10,
   "metadata": {},
   "outputs": [],
   "source": [
    "# for i, idx in tqdm_notebook(enumerate(indices), total = len(indices)):\n",
    "#     im_path = '..//data//images//{}//'.format('bird' if labels[idx]==1 else 'insect')\n",
    "#     mask_path = '..//data//labels//{}//'.format('bird' if labels[idx]==1 else 'insect')\n",
    "#     im = cv2.cvtColor(cv2.imread('{}{}'.format(im_path, images[idx])), cv2.COLOR_BGR2RGB)\n",
    "#     mask = readpgm('{}{}'.format(mask_path, masks[idx]))\n",
    "    \n",
    "#     im_ = pad_images_to_same_size([im])[0]\n",
    "#     mask_ = pad_images_to_same_size([mask])[0]\n",
    "    \n",
    "#     im_path = '..//data//images_//{}//'.format('bird' if labels[idx]==1 else 'insect')\n",
    "#     mask_path = '..//data//labels_//{}//'.format('bird' if labels[idx]==1 else 'insect')\n",
    "\n",
    "#     cv2.imwrite('{}//{}'.format(im_path, images[idx]), cv2.cvtColor(im_, cv2.COLOR_RGB2BGR))\n",
    "#     cv2.imwrite('{}//{}'.format(mask_path, '{}.jpg'.format(masks[idx].split('.')[0])), mask_)"
   ]
  },
  {
   "cell_type": "markdown",
   "metadata": {},
   "source": [
    "## Building the Data Generator"
   ]
  },
  {
   "cell_type": "code",
   "execution_count": 11,
   "metadata": {},
   "outputs": [],
   "source": [
    "images = os.listdir(os.path.join(DATA_DIR, 'images_', 'bird')) + os.listdir(os.path.join(DATA_DIR, 'images_', 'insect'))\n",
    "masks = os.listdir(os.path.join(DATA_DIR, 'labels_', 'bird')) + os.listdir(os.path.join(DATA_DIR, 'labels_', 'insect'))\n",
    "labels = [1]*len(os.listdir(os.path.join(DATA_DIR, 'labels_', 'bird'))) + [2]*len(os.listdir(os.path.join(DATA_DIR, 'labels_', 'insect')))"
   ]
  },
  {
   "cell_type": "code",
   "execution_count": 12,
   "metadata": {},
   "outputs": [],
   "source": [
    "assert len(images) == len(masks)\n",
    "assert len(masks) == len(labels)"
   ]
  },
  {
   "cell_type": "code",
   "execution_count": 13,
   "metadata": {},
   "outputs": [],
   "source": [
    "indices = np.arange(len(images))"
   ]
  },
  {
   "cell_type": "code",
   "execution_count": 14,
   "metadata": {},
   "outputs": [
    {
     "name": "stderr",
     "output_type": "stream",
     "text": [
      "E:\\Envs\\py36tf\\lib\\site-packages\\ipykernel_launcher.py:3: TqdmDeprecationWarning: This function will be removed in tqdm==5.0.0\n",
      "Please use `tqdm.notebook.tqdm` instead of `tqdm.tqdm_notebook`\n",
      "  This is separate from the ipykernel package so we can avoid doing imports until\n"
     ]
    },
    {
     "data": {
      "application/vnd.jupyter.widget-view+json": {
       "model_id": "91ca1c634ebf4d0099b624fd55eeec26",
       "version_major": 2,
       "version_minor": 0
      },
      "text/plain": [
       "HBox(children=(FloatProgress(value=0.0, max=280.0), HTML(value='')))"
      ]
     },
     "metadata": {},
     "output_type": "display_data"
    },
    {
     "name": "stdout",
     "output_type": "stream",
     "text": [
      "\n"
     ]
    }
   ],
   "source": [
    "widths = []\n",
    "heights = []\n",
    "for i, image in tqdm_notebook(enumerate(images), total = len(images)):\n",
    "    im = cv2.imread('..//data//images_//{}//{}'.format('bird' if labels[i]==1 else 'insect', image))\n",
    "    \n",
    "    widths.append(im.shape[0])\n",
    "    heights.append(im.shape[1])"
   ]
  },
  {
   "cell_type": "code",
   "execution_count": 15,
   "metadata": {},
   "outputs": [
    {
     "data": {
      "image/png": "[encoded data removed]",
      "text/plain": [
       "<Figure size 1080x360 with 2 Axes>"
      ]
     },
     "metadata": {
      "needs_background": "light"
     },
     "output_type": "display_data"
    }
   ],
   "source": [
    "f, ax = plt.subplots(1, 2, figsize = (15, 5))\n",
    "ax[0].hist(widths)\n",
    "ax[1].hist(heights)\n",
    "plt.show()"
   ]
  },
  {
   "cell_type": "code",
   "execution_count": 16,
   "metadata": {},
   "outputs": [],
   "source": [
    "# x_train, x_, y_train, y_ = train_test_split(indices, labels, test_size = 0.5, random_state = seed, stratify = labels)\n",
    "# x_val, x_test, y_val, y_test = train_test_split(x_, y_, test_size = 0.6, random_state = seed, stratify = y_)"
   ]
  },
  {
   "cell_type": "code",
   "execution_count": 17,
   "metadata": {},
   "outputs": [],
   "source": [
    "# from collections import Counter\n",
    "# print(Counter(y_train))\n",
    "# print(Counter(y_val))\n",
    "# print(Counter(y_test))"
   ]
  },
  {
   "cell_type": "code",
   "execution_count": 18,
   "metadata": {},
   "outputs": [],
   "source": [
    "# print('Train {}, Val {}, Test {}'.format(len(x_train), len(x_val), len(x_test)))"
   ]
  },
  {
   "cell_type": "code",
   "execution_count": 19,
   "metadata": {},
   "outputs": [],
   "source": [
    "# for idx, l in tqdm_notebook(zip(x_train, y_train), total = len(x_train)):\n",
    "#     x = cv2.imread('..//data//images_//{}//{}'.format('bird' if l==1 else 'insect', images[idx]))\n",
    "#     y = cv2.imread('..//data//labels_//{}//{}'.format('bird' if l==1 else 'insect', masks[idx]))\n",
    "    \n",
    "#     cv2.imwrite('..//data//train//{}'.format(images[idx]), x)\n",
    "#     cv2.imwrite('..//data//trainannot//{}_{}.jpg'.format(masks[idx].split('.')[0], l), y)\n",
    "    \n",
    "# for idx, l in tqdm_notebook(zip(x_val, y_val), total = len(x_val)):\n",
    "#     x = cv2.imread('..//data//images_//{}//{}'.format('bird' if l==1 else 'insect', images[idx]))\n",
    "#     y = cv2.imread('..//data//labels_//{}//{}'.format('bird' if l==1 else 'insect', masks[idx]))\n",
    "    \n",
    "#     cv2.imwrite('..//data//val//{}'.format(images[idx]), x)\n",
    "#     cv2.imwrite('..//data//valannot//{}_{}.jpg'.format(masks[idx].split('.')[0], l), y)\n",
    "    \n",
    "# for idx, l in tqdm_notebook(zip(x_test, y_test), total = len(x_test)):\n",
    "#     x = cv2.imread('..//data//images_//{}//{}'.format('bird' if l==1 else 'insect', images[idx]))\n",
    "#     y = cv2.imread('..//data//labels_//{}//{}'.format('bird' if l==1 else 'insect', masks[idx]))\n",
    "    \n",
    "#     cv2.imwrite('..//data//test//{}'.format(images[idx]), x)\n",
    "#     cv2.imwrite('..//data//testannot//{}_{}.jpg'.format(masks[idx].split('.')[0], l), y)"
   ]
  },
  {
   "cell_type": "code",
   "execution_count": 20,
   "metadata": {},
   "outputs": [],
   "source": [
    "# # helper function for data visualization\n",
    "\n",
    "# from imgaug import SegmentationMapsOnImage\n",
    "\n",
    "# def visualize(images, masks, title):\n",
    "    \n",
    "#     f, ax = plt.subplots(2, len(images), figsize = (25, 10))\n",
    "#     for i, (im, ms) in enumerate(zip(images, masks)):\n",
    "        \n",
    "#         ax[0][i].imshow(im)\n",
    "#         ax[1][i].imshow(ms, cmap = 'gray')\n",
    "#     plt.suptitle(title)\n",
    "#     plt.show()\n",
    "        \n",
    "# sample = random.choices(np.arange(len(x_train)), k = 5)\n",
    "# imgs = [cv2.cvtColor(cv2.imread('..//data//images_//{}//{}'.format('bird' if y_train[i]==1 else 'insect', images[x_train[i]])), cv2.COLOR_BGR2RGB) for i in sample]\n",
    "# msks = [cv2.imread('..//data//labels_//{}//{}'.format('bird' if y_train[i]==1 else 'insect', masks[x_train[i]])) for i in sample]\n",
    "# visualize(imgs, msks, title = 'Training Samples')\n",
    "\n",
    "# sample = random.choices(np.arange(len(x_val)), k = 5)\n",
    "# imgs = [cv2.cvtColor(cv2.imread('..//data//images_//{}//{}'.format('bird' if y_val[i]==1 else 'insect', images[x_val[i]])), cv2.COLOR_BGR2RGB) for i in sample]\n",
    "# msks = [cv2.imread('..//data//labels_//{}//{}'.format('bird' if y_val[i]==1 else 'insect', masks[x_val[i]])) for i in sample]\n",
    "# visualize(imgs, msks, title = 'Validation Samples')\n",
    "\n",
    "# sample = random.choices(np.arange(len(x_test)), k = 5)\n",
    "# imgs = [cv2.cvtColor(cv2.imread('..//data//images_//{}//{}'.format('bird' if y_test[i]==1 else 'insect', images[x_test[i]])), cv2.COLOR_BGR2RGB) for i in sample]\n",
    "# msks = [cv2.imread('..//data//labels_//{}//{}'.format('bird' if y_test[i]==1 else 'insect', masks[x_test[i]])) for i in sample]\n",
    "# visualize(imgs, msks, title = 'Test Samples')"
   ]
  },
  {
   "cell_type": "code",
   "execution_count": 21,
   "metadata": {},
   "outputs": [],
   "source": [
    "# class DataGenerator(keras.utils.Sequence):\n",
    "#     'Generates data for Keras'\n",
    "#     def __init__(self, list_IDs, images, masks, labels, label_map = {1: 'bird', 2: 'insect'}, \n",
    "#                  train_path = '..//data', mode = 'fit', batch_size=32, \n",
    "#                  dim=(640,640), reshape = None, augmentation = None,\n",
    "#                  n_channels=3, n_classes=3, random_state = 5, shuffle=True):\n",
    "#         'Initialization'\n",
    "        \n",
    "#         self.list_IDs = list_IDs\n",
    "#         self.images = images\n",
    "#         self.masks = masks\n",
    "#         self.labels = labels\n",
    "#         self.label_map = label_map\n",
    "#         self.train_path = train_path\n",
    "#         self.mode = mode\n",
    "#         self.batch_size = batch_size\n",
    "#         self.n_channels = n_channels\n",
    "#         self.dim = dim\n",
    "#         self.reshape = reshape\n",
    "#         self.augmentation = augmentation\n",
    "#         self.n_channels = n_channels\n",
    "#         self.n_classes = n_classes        \n",
    "#         self.random_state = random_state\n",
    "#         self.shuffle = shuffle\n",
    "#         self.on_epoch_end()\n",
    "\n",
    "#     def __len__(self):\n",
    "#         'Denotes the number of batches per epoch'\n",
    "#         return int(np.floor(len(self.list_IDs) / self.batch_size))\n",
    "\n",
    "#     def __getitem__(self, index):\n",
    "#         'Generate one batch of data'\n",
    "#         # Find list of IDs\n",
    "#         list_IDs_ = self.list_IDs[index*self.batch_size:(index+1)*self.batch_size]\n",
    "#         # Generate data\n",
    "#         if(self.mode == 'fit'):\n",
    "#             images, maps = self.__data_generation(list_IDs_)\n",
    "            \n",
    "#             return images, maps\n",
    "#         else:\n",
    "#             images = self.__data_generation(list_IDs_)\n",
    "            \n",
    "#             return images\n",
    "    \n",
    "#     def __data_generation(self, indices):\n",
    "#         'Generates data containing batch_size samples' # X : (n_samples, *dim, n_channels)\n",
    "#         # Initialization\n",
    "#         if(self.reshape is None):\n",
    "#             image_batch = np.empty((self.batch_size, *self.dim, self.n_channels))\n",
    "#         else:\n",
    "#             image_batch = np.empty((self.batch_size, *self.reshape, self.n_channels))\n",
    "            \n",
    "#         # Generate data\n",
    "#         for i, ID in enumerate(indices):\n",
    "#             # Store sample\n",
    "#             image_batch[i,] = self.load_image(ID)\n",
    "        \n",
    "#         if(self.mode == 'fit'):\n",
    "# #             if(self.reshape is None):\n",
    "# #                 mask_batch = np.empty((self.batch_size, *self.dim, self.n_classes))\n",
    "# #             else:\n",
    "# #                 mask_batch = np.empty((self.batch_size, *self.reshape, self.n_classes))\n",
    "#             mask_batch = []\n",
    "\n",
    "#             # Generate data\n",
    "#             for i, ID in enumerate(indices):\n",
    "#                 # Store class\n",
    "#                 mask_batch.append(self.make_gt(ID))\n",
    "            \n",
    "#             if self.augmentation:\n",
    "#                 for i, ID in enumerate(indices):\n",
    "#                     sample = self.augmentation(image = image_batch[i,], mask = mask_batch[i])\n",
    "#                     image_batch[i,], mask_batch[i] = sample['image'], sample['mask']\n",
    "            \n",
    "#             return image_batch, mask_batch\n",
    "#         else:\n",
    "#             return image_batch\n",
    "        \n",
    "#     def load_image(self, ID):\n",
    "        \n",
    "#         path = '{}//images_//{}//{}'.format(self.train_path, self.label_map[self.labels[ID]], self.images[ID])\n",
    "#         img = cv2.cvtColor(cv2.imread(path), cv2.COLOR_BGR2RGB)\n",
    "#         img = img.astype(np.float32) / 255.\n",
    "        \n",
    "#         if(self.reshape is not None):\n",
    "#             img = imutils.resize(img, height = self.reshape[0])\n",
    "\n",
    "#         return img\n",
    "    \n",
    "#     def make_gt(self, ID):\n",
    "        \n",
    "#         mask = cv2.imread('{}//labels_//{}//{}.jpg'.format(self.train_path, \n",
    "#                                                            self.label_map[self.labels[ID]], self.masks[ID].split('.')[0]))\n",
    "#         mask = mask.astype(np.float32)/255.\n",
    "#         mask = cv2.cvtColor(mask, cv2.COLOR_BGR2GRAY)\n",
    "                \n",
    "#         gt = np.zeros((*self.dim, self.n_classes))\n",
    "        \n",
    "#         if self.labels[ID]  == 1:\n",
    "#             gt[:, :, 1] = mask\n",
    "#             gt[:, :, 0] = 1 - gt[:, :, 1]\n",
    "#         elif self.labels[ID] == 2:\n",
    "#             gt[:, :, 2] = mask\n",
    "#             gt[:, :, 0] = 1 - gt[:, :, 2]\n",
    "            \n",
    "#         if(self.reshape is not None):\n",
    "#             gt = imutils.resize(gt, height = self.reshape[0])\n",
    "            \n",
    "#         return gt\n",
    "\n",
    "#     def on_epoch_end(self):\n",
    "#         'Updates indexes after each epoch'\n",
    "#         self.indexes = np.arange(len(self.list_IDs))\n",
    "#         if self.shuffle == True:\n",
    "#             np.random.seed(self.random_state)\n",
    "#             np.random.shuffle(self.indexes)\n"
   ]
  },
  {
   "cell_type": "code",
   "execution_count": 22,
   "metadata": {},
   "outputs": [],
   "source": [
    "# trainGen = DataGenerator(x_train, images, masks, labels, batch_size=5, reshape = (320, 320), \n",
    "#                          augmentation = get_training_augmentation())"
   ]
  },
  {
   "cell_type": "code",
   "execution_count": 23,
   "metadata": {},
   "outputs": [],
   "source": [
    "# visualize(trainGen[0][0], trainGen[0][1], title = 'Training Samples')"
   ]
  },
  {
   "cell_type": "code",
   "execution_count": 24,
   "metadata": {},
   "outputs": [],
   "source": [
    "# helper function for data visualization\n",
    "def visualize(**images):\n",
    "    \"\"\"PLot images in one row.\"\"\"\n",
    "    n = len(images)\n",
    "    plt.figure(figsize=(16, 5))\n",
    "    for i, (name, image) in enumerate(images.items()):\n",
    "        plt.subplot(1, n, i + 1)\n",
    "        plt.xticks([])\n",
    "        plt.yticks([])\n",
    "        plt.title(' '.join(name.split('_')).title())\n",
    "        if(len(image.shape) == 2):\n",
    "            plt.imshow(image, cmap = 'gray')\n",
    "        else:\n",
    "            plt.imshow(image)\n",
    "    plt.show()\n",
    "    \n",
    "# helper function for data visualization    \n",
    "def denormalize(x):\n",
    "    \"\"\"Scale image to range 0..1 for correct plot\"\"\"\n",
    "    x_max = np.percentile(x, 98)\n",
    "    x_min = np.percentile(x, 2)    \n",
    "    x = (x - x_min) / (x_max - x_min)\n",
    "    x = x.clip(0, 1)\n",
    "    return x\n",
    "    \n",
    "\n",
    "# classes for data loading and preprocessing\n",
    "class Dataset:\n",
    "    \"\"\"CamVid Dataset. Read images, apply augmentation and preprocessing transformations.\n",
    "    \n",
    "    Args:\n",
    "        images_dir (str): path to images folder\n",
    "        masks_dir (str): path to segmentation masks folder\n",
    "        class_values (list): values of classes to extract from segmentation mask\n",
    "        augmentation (albumentations.Compose): data transfromation pipeline \n",
    "            (e.g. flip, scale, etc.)\n",
    "        preprocessing (albumentations.Compose): data preprocessing \n",
    "            (e.g. noralization, shape manipulation, etc.)\n",
    "    \n",
    "    \"\"\"\n",
    "    \n",
    "    def __init__(\n",
    "            self, \n",
    "            images_dir, \n",
    "            masks_dir, \n",
    "            classes=None, \n",
    "            reshape = None,\n",
    "            augmentation=None, \n",
    "            preprocessing=None,\n",
    "    ):\n",
    "        self.ids = os.listdir(images_dir)\n",
    "        self.mask_ids = os.listdir(masks_dir)\n",
    "        self.images_fps = [os.path.join(images_dir, image_id) for image_id in self.ids]\n",
    "        self.masks_fps = [os.path.join(masks_dir, image_id) for image_id in self.mask_ids]\n",
    "        self.reshape = reshape\n",
    "        self.augmentation = augmentation\n",
    "        self.preprocessing = preprocessing\n",
    "    \n",
    "    def __getitem__(self, i):\n",
    "        \n",
    "        # read data\n",
    "        image = cv2.imread(self.images_fps[i])\n",
    "        image = cv2.cvtColor(image, cv2.COLOR_BGR2RGB)\n",
    "        gt = cv2.imread(self.masks_fps[i])\n",
    "        gt = cv2.cvtColor(gt, cv2.COLOR_BGR2GRAY)\n",
    "        gt = gt/255.0\n",
    "        \n",
    "        # extract certain classes from mask (e.g. cars)\n",
    "        label = int(self.mask_ids[i].split('.')[0][-1])\n",
    "        mask = np.zeros((gt.shape[0], gt.shape[1], 3))\n",
    "        \n",
    "        if(label == 1):\n",
    "            mask[:, :, 1] = gt\n",
    "        else:\n",
    "            mask[:, :, 2] = gt\n",
    "        \n",
    "        mask[:, :, 0] = 1 - gt\n",
    "        \n",
    "        if self.reshape:\n",
    "            image = imutils.resize(image, height = self.reshape[0])\n",
    "            mask = imutils.resize(mask, height = self.reshape[0])\n",
    "            \n",
    "        \n",
    "        # apply augmentations\n",
    "        if self.augmentation:\n",
    "            sample = self.augmentation(image=image, mask=mask)\n",
    "            image, mask = sample['image'], sample['mask']\n",
    "        \n",
    "        # apply preprocessing\n",
    "        if self.preprocessing:\n",
    "            sample = self.preprocessing(image=image, mask=mask)\n",
    "            image, mask = sample['image'], sample['mask']\n",
    "            \n",
    "        return image, mask\n",
    "        \n",
    "    def __len__(self):\n",
    "        return len(self.ids)\n",
    "    \n",
    "    \n",
    "class Dataloder(keras.utils.Sequence):\n",
    "    \"\"\"Load data from dataset and form batches\n",
    "    \n",
    "    Args:\n",
    "        dataset: instance of Dataset class for image loading and preprocessing.\n",
    "        batch_size: Integet number of images in batch.\n",
    "        shuffle: Boolean, if `True` shuffle image indexes each epoch.\n",
    "    \"\"\"\n",
    "    \n",
    "    def __init__(self, dataset, batch_size=1, shuffle=False):\n",
    "        self.dataset = dataset\n",
    "        self.batch_size = batch_size\n",
    "        self.shuffle = shuffle\n",
    "        self.indexes = np.arange(len(dataset))\n",
    "\n",
    "        self.on_epoch_end()\n",
    "\n",
    "    def __getitem__(self, i):\n",
    "        \n",
    "        # collect batch data\n",
    "        start = i * self.batch_size\n",
    "        stop = (i + 1) * self.batch_size\n",
    "        data = []\n",
    "        for j in range(start, stop):\n",
    "            data.append(self.dataset[j])\n",
    "        \n",
    "        # transpose list of lists\n",
    "        batch = [np.stack(samples, axis=0) for samples in zip(*data)]\n",
    "        \n",
    "        return batch\n",
    "    \n",
    "    def __len__(self):\n",
    "        \"\"\"Denotes the number of batches per epoch\"\"\"\n",
    "        return len(self.indexes) // self.batch_size\n",
    "    \n",
    "    def on_epoch_end(self):\n",
    "        \"\"\"Callback function to shuffle indexes each epoch\"\"\"\n",
    "        if self.shuffle:\n",
    "            self.indexes = np.random.permutation(self.indexes)   \n",
    "            \n",
    "import albumentations as A\n",
    "\n",
    "def round_clip_0_1(x, **kwargs):\n",
    "    return x.round().clip(0, 1)\n",
    "\n",
    "# define heavy augmentations\n",
    "def get_training_augmentation():\n",
    "    train_transform = [\n",
    "\n",
    "        A.HorizontalFlip(p=0.5),\n",
    "\n",
    "        A.ShiftScaleRotate(scale_limit=0.5, rotate_limit=0, shift_limit=0.1, p=1, border_mode=0),\n",
    "\n",
    "        A.PadIfNeeded(min_height=320, min_width=320, always_apply=True, border_mode=0),\n",
    "        A.RandomCrop(height=320, width=320, always_apply=True),\n",
    "\n",
    "        A.IAAAdditiveGaussianNoise(p=0.2),\n",
    "        A.IAAPerspective(p=0.5),\n",
    "\n",
    "        A.OneOf(\n",
    "            [\n",
    "                A.CLAHE(p=1),\n",
    "                A.RandomBrightness(p=1),\n",
    "                A.RandomGamma(p=1),\n",
    "            ],\n",
    "            p=0.9,\n",
    "        ),\n",
    "\n",
    "        A.OneOf(\n",
    "            [\n",
    "                A.IAASharpen(p=1),\n",
    "                A.Blur(blur_limit=3, p=1),\n",
    "                A.MotionBlur(blur_limit=3, p=1),\n",
    "            ],\n",
    "            p=0.9,\n",
    "        ),\n",
    "\n",
    "        A.OneOf(\n",
    "            [\n",
    "                A.RandomContrast(p=1),\n",
    "                A.HueSaturationValue(p=1),\n",
    "            ],\n",
    "            p=0.9,\n",
    "        ),\n",
    "        A.Lambda(mask=round_clip_0_1)\n",
    "    ]\n",
    "    return A.Compose(train_transform)\n",
    "\n",
    "\n",
    "def get_validation_augmentation():\n",
    "    \"\"\"Add paddings to make image shape divisible by 32\"\"\"\n",
    "    test_transform = [\n",
    "        A.PadIfNeeded(384, 480)\n",
    "    ]\n",
    "    return A.Compose(test_transform)\n",
    "\n",
    "def get_preprocessing(preprocessing_fn):\n",
    "    \"\"\"Construct preprocessing transform\n",
    "    \n",
    "    Args:\n",
    "        preprocessing_fn (callbale): data normalization function \n",
    "            (can be specific for each pretrained neural network)\n",
    "    Return:\n",
    "        transform: albumentations.Compose\n",
    "    \n",
    "    \"\"\"\n",
    "    \n",
    "    _transform = [\n",
    "        A.Lambda(image=preprocessing_fn),\n",
    "    ]\n",
    "    return A.Compose(_transform)"
   ]
  },
  {
   "cell_type": "code",
   "execution_count": 25,
   "metadata": {},
   "outputs": [
    {
     "data": {
      "image/png": "[encoded data removed]",
      "text/plain": [
       "<Figure size 1152x360 with 4 Axes>"
      ]
     },
     "metadata": {},
     "output_type": "display_data"
    }
   ],
   "source": [
    "# Lets look at augmented data we have\n",
    "dataset = Dataset('..//data//train', '..//data//trainannot', classes=['bird', 'insect'], \n",
    "                  reshape = (240, 240), augmentation=get_training_augmentation())\n",
    "\n",
    "image, mask = dataset[2] # get some sample\n",
    "visualize(\n",
    "    image=image, \n",
    "    background_mask=mask[..., 0].squeeze(),\n",
    "    bird_mask=mask[..., 1].squeeze(),\n",
    "    insect_mask=mask[..., 2].squeeze(),    \n",
    ")"
   ]
  },
  {
   "cell_type": "markdown",
   "metadata": {},
   "source": [
    "## Building Segmentation Model"
   ]
  },
  {
   "cell_type": "code",
   "execution_count": 26,
   "metadata": {},
   "outputs": [
    {
     "name": "stdout",
     "output_type": "stream",
     "text": [
      "Segmentation Models: using `keras` framework.\n"
     ]
    }
   ],
   "source": [
    "import segmentation_models as sm"
   ]
  },
  {
   "cell_type": "code",
   "execution_count": 27,
   "metadata": {},
   "outputs": [],
   "source": [
    "BACKBONE = 'efficientnetb3'\n",
    "BATCH_SIZE = 1\n",
    "CLASSES = ['bird', 'insect']\n",
    "LR = 0.0001\n",
    "EPOCHS = 40\n",
    "\n",
    "preprocess_input = sm.get_preprocessing(BACKBONE)"
   ]
  },
  {
   "cell_type": "code",
   "execution_count": 28,
   "metadata": {},
   "outputs": [],
   "source": [
    "# define network parameters\n",
    "n_classes = 1 if len(CLASSES) == 1 else (len(CLASSES) + 1)  # case for binary and multiclass segmentation\n",
    "activation = 'sigmoid' if n_classes == 1 else 'softmax'\n",
    "\n",
    "#create model\n",
    "model = sm.Unet(BACKBONE, classes=n_classes, activation=activation)"
   ]
  },
  {
   "cell_type": "code",
   "execution_count": 29,
   "metadata": {},
   "outputs": [],
   "source": [
    "# define optomizer\n",
    "optim = keras.optimizers.Adam(LR)\n",
    "\n",
    "# Segmentation models losses can be combined together by '+' and scaled by integer or float factor\n",
    "# set class weights for dice_loss (car: 1.; pedestrian: 2.; background: 0.5;)\n",
    "dice_loss = sm.losses.DiceLoss(class_weights=np.array([1, 2, 0.5])) \n",
    "focal_loss = sm.losses.BinaryFocalLoss() if n_classes == 1 else sm.losses.CategoricalFocalLoss()\n",
    "total_loss = dice_loss + (1 * focal_loss)\n",
    "\n",
    "# actulally total_loss can be imported directly from library, above example just show you how to manipulate with losses\n",
    "# total_loss = sm.losses.binary_focal_dice_loss # or sm.losses.categorical_focal_dice_loss \n",
    "\n",
    "metrics = [sm.metrics.IOUScore(threshold=0.5), sm.metrics.FScore(threshold=0.5)]\n",
    "\n",
    "# compile keras model with defined optimozer, loss and metrics\n",
    "model.compile(optim, total_loss, metrics)"
   ]
  },
  {
   "cell_type": "code",
   "execution_count": 30,
   "metadata": {},
   "outputs": [],
   "source": [
    "# Dataset for train images\n",
    "train_dataset = Dataset(\n",
    "    '..//Data//train', \n",
    "    '..//Data//trainannot',\n",
    "    reshape = (240, 240),\n",
    "    augmentation=get_training_augmentation(),\n",
    "    preprocessing=get_preprocessing(preprocess_input),\n",
    ")\n",
    "\n",
    "# Dataset for validation images\n",
    "valid_dataset = Dataset(\n",
    "    '..//Data//val',\n",
    "    '..//Data//valannot',\n",
    "    reshape = (240, 240),\n",
    "    augmentation=get_validation_augmentation(),\n",
    "    preprocessing=get_preprocessing(preprocess_input),\n",
    ")\n",
    "\n",
    "train_dataloader = Dataloder(train_dataset, batch_size=BATCH_SIZE, shuffle=True)\n",
    "valid_dataloader = Dataloder(valid_dataset, batch_size=1, shuffle=False)\n",
    "\n",
    "# check shapes for errors\n",
    "assert train_dataloader[0][0].shape == (BATCH_SIZE, 320, 320, 3)\n",
    "assert train_dataloader[0][1].shape == (BATCH_SIZE, 320, 320, n_classes)\n",
    "\n",
    "# define callbacks for learning rate scheduling and best checkpoints saving\n",
    "callbacks = [\n",
    "    keras.callbacks.ModelCheckpoint('./best_model_aug.h5', save_weights_only=True, save_best_only=True, mode='min'),\n",
    "    keras.callbacks.ReduceLROnPlateau(),\n",
    "    keras.callbacks.EarlyStopping(monitor = 'val_loss', patience = 7)\n",
    "]"
   ]
  },
  {
   "cell_type": "code",
   "execution_count": 31,
   "metadata": {
    "scrolled": true
   },
   "outputs": [
    {
     "name": "stdout",
     "output_type": "stream",
     "text": [
      "Epoch 1/40\n",
      "140/140 [==============================] - 158s 1s/step - loss: 0.7545 - iou_score: 0.2203 - f1-score: 0.2830 - val_loss: 0.7637 - val_iou_score: 0.3605 - val_f1-score: 0.4069\n",
      "Epoch 2/40\n",
      "140/140 [==============================] - 76s 544ms/step - loss: 0.6204 - iou_score: 0.3289 - f1-score: 0.3866 - val_loss: 0.7522 - val_iou_score: 0.3971 - val_f1-score: 0.4375\n",
      "Epoch 3/40\n",
      "140/140 [==============================] - 76s 541ms/step - loss: 0.5428 - iou_score: 0.3454 - f1-score: 0.4038 - val_loss: 0.7554 - val_iou_score: 0.3479 - val_f1-score: 0.4103\n",
      "Epoch 4/40\n",
      "140/140 [==============================] - 74s 525ms/step - loss: 0.5037 - iou_score: 0.3584 - f1-score: 0.4130 - val_loss: 0.7777 - val_iou_score: 0.3479 - val_f1-score: 0.4115\n",
      "Epoch 5/40\n",
      "140/140 [==============================] - 74s 526ms/step - loss: 0.4867 - iou_score: 0.3691 - f1-score: 0.4209 - val_loss: 0.6853 - val_iou_score: 0.3836 - val_f1-score: 0.4342\n",
      "Epoch 6/40\n",
      "140/140 [==============================] - 74s 527ms/step - loss: 0.4729 - iou_score: 0.3740 - f1-score: 0.4275 - val_loss: 0.6935 - val_iou_score: 0.3661 - val_f1-score: 0.4253\n",
      "Epoch 7/40\n",
      "140/140 [==============================] - 73s 522ms/step - loss: 0.4610 - iou_score: 0.3814 - f1-score: 0.4322 - val_loss: 0.6898 - val_iou_score: 0.3934 - val_f1-score: 0.4435\n",
      "Epoch 8/40\n",
      "140/140 [==============================] - 68s 486ms/step - loss: 0.4489 - iou_score: 0.3944 - f1-score: 0.4403 - val_loss: 0.6546 - val_iou_score: 0.3952 - val_f1-score: 0.4454\n",
      "Epoch 9/40\n",
      "140/140 [==============================] - 64s 454ms/step - loss: 0.4417 - iou_score: 0.3984 - f1-score: 0.4447 - val_loss: 0.6630 - val_iou_score: 0.3915 - val_f1-score: 0.4447\n",
      "Epoch 10/40\n",
      "140/140 [==============================] - 64s 456ms/step - loss: 0.4234 - iou_score: 0.4133 - f1-score: 0.4552 - val_loss: 0.6605 - val_iou_score: 0.3879 - val_f1-score: 0.4461\n",
      "Epoch 11/40\n",
      "140/140 [==============================] - 66s 473ms/step - loss: 0.4286 - iou_score: 0.4087 - f1-score: 0.4526 - val_loss: 0.6786 - val_iou_score: 0.4074 - val_f1-score: 0.4525\n",
      "Epoch 12/40\n",
      "140/140 [==============================] - 67s 477ms/step - loss: 0.4152 - iou_score: 0.4229 - f1-score: 0.4653 - val_loss: 0.8219 - val_iou_score: 0.3321 - val_f1-score: 0.4039\n",
      "Epoch 13/40\n",
      "140/140 [==============================] - 64s 459ms/step - loss: 0.4233 - iou_score: 0.4148 - f1-score: 0.4588 - val_loss: 0.6471 - val_iou_score: 0.3686 - val_f1-score: 0.4401\n",
      "Epoch 14/40\n",
      "140/140 [==============================] - 63s 453ms/step - loss: 0.4098 - iou_score: 0.4244 - f1-score: 0.4659 - val_loss: 0.7000 - val_iou_score: 0.3482 - val_f1-score: 0.4246\n",
      "Epoch 15/40\n",
      "140/140 [==============================] - 63s 452ms/step - loss: 0.4116 - iou_score: 0.4256 - f1-score: 0.4666 - val_loss: 0.6592 - val_iou_score: 0.3564 - val_f1-score: 0.4288\n",
      "Epoch 16/40\n",
      "140/140 [==============================] - 63s 453ms/step - loss: 0.4165 - iou_score: 0.4207 - f1-score: 0.4633 - val_loss: 0.8577 - val_iou_score: 0.3133 - val_f1-score: 0.3949\n",
      "Epoch 17/40\n",
      "140/140 [==============================] - 63s 452ms/step - loss: 0.4030 - iou_score: 0.4321 - f1-score: 0.4722 - val_loss: 0.7368 - val_iou_score: 0.3256 - val_f1-score: 0.4041\n",
      "Epoch 18/40\n",
      "140/140 [==============================] - 63s 451ms/step - loss: 0.3921 - iou_score: 0.4376 - f1-score: 0.4777 - val_loss: 0.6901 - val_iou_score: 0.3585 - val_f1-score: 0.4270\n",
      "Epoch 19/40\n",
      "140/140 [==============================] - 63s 450ms/step - loss: 0.3849 - iou_score: 0.4472 - f1-score: 0.4842 - val_loss: 0.7064 - val_iou_score: 0.3414 - val_f1-score: 0.4147\n",
      "Epoch 20/40\n",
      "140/140 [==============================] - 63s 447ms/step - loss: 0.3970 - iou_score: 0.4392 - f1-score: 0.4768 - val_loss: 0.6251 - val_iou_score: 0.3423 - val_f1-score: 0.4196\n",
      "Epoch 21/40\n",
      "140/140 [==============================] - 63s 447ms/step - loss: 0.3985 - iou_score: 0.4354 - f1-score: 0.4751 - val_loss: 0.5808 - val_iou_score: 0.3640 - val_f1-score: 0.4345\n",
      "Epoch 22/40\n",
      "140/140 [==============================] - 63s 450ms/step - loss: 0.3923 - iou_score: 0.4408 - f1-score: 0.4813 - val_loss: 0.5448 - val_iou_score: 0.4001 - val_f1-score: 0.4589\n",
      "Epoch 23/40\n",
      "140/140 [==============================] - 63s 452ms/step - loss: 0.3910 - iou_score: 0.4425 - f1-score: 0.4821 - val_loss: 0.6370 - val_iou_score: 0.3415 - val_f1-score: 0.4199\n",
      "Epoch 24/40\n",
      "140/140 [==============================] - 63s 451ms/step - loss: 0.3858 - iou_score: 0.4458 - f1-score: 0.4848 - val_loss: 0.6149 - val_iou_score: 0.3607 - val_f1-score: 0.4312\n",
      "Epoch 25/40\n",
      "140/140 [==============================] - 64s 454ms/step - loss: 0.3905 - iou_score: 0.4442 - f1-score: 0.4817 - val_loss: 0.6530 - val_iou_score: 0.3302 - val_f1-score: 0.4078\n",
      "Epoch 26/40\n",
      "140/140 [==============================] - 63s 453ms/step - loss: 0.3828 - iou_score: 0.4476 - f1-score: 0.4880 - val_loss: 0.6544 - val_iou_score: 0.3587 - val_f1-score: 0.4367\n",
      "Epoch 27/40\n",
      "140/140 [==============================] - 64s 454ms/step - loss: 0.3864 - iou_score: 0.4464 - f1-score: 0.4835 - val_loss: 0.6372 - val_iou_score: 0.3688 - val_f1-score: 0.4419\n",
      "Epoch 28/40\n",
      "140/140 [==============================] - 64s 454ms/step - loss: 0.3897 - iou_score: 0.4417 - f1-score: 0.4790 - val_loss: 0.6205 - val_iou_score: 0.3784 - val_f1-score: 0.4473\n",
      "Epoch 29/40\n",
      "140/140 [==============================] - 65s 462ms/step - loss: 0.3760 - iou_score: 0.4540 - f1-score: 0.4913 - val_loss: 0.5552 - val_iou_score: 0.4715 - val_f1-score: 0.5263\n"
     ]
    }
   ],
   "source": [
    "# train model\n",
    "history = model.fit_generator(\n",
    "    train_dataloader, \n",
    "    steps_per_epoch=len(train_dataloader), \n",
    "    epochs=EPOCHS, \n",
    "    callbacks=callbacks, \n",
    "    validation_data=valid_dataloader, \n",
    "    validation_steps=len(valid_dataloader),\n",
    "    verbose = 1\n",
    ")"
   ]
  },
  {
   "cell_type": "code",
   "execution_count": 32,
   "metadata": {
    "scrolled": true
   },
   "outputs": [
    {
     "name": "stdout",
     "output_type": "stream",
     "text": [
      "Epoch 1/50\n",
      "140/140 [==============================] - 63s 451ms/step - loss: 0.3757 - iou_score: 0.4523 - f1-score: 0.4919 - val_loss: 0.6503 - val_iou_score: 0.3635 - val_f1-score: 0.4423\n",
      "Epoch 2/50\n",
      "140/140 [==============================] - 63s 449ms/step - loss: 0.3768 - iou_score: 0.4513 - f1-score: 0.4893 - val_loss: 0.5706 - val_iou_score: 0.4057 - val_f1-score: 0.4707\n",
      "Epoch 3/50\n",
      "140/140 [==============================] - 63s 453ms/step - loss: 0.3667 - iou_score: 0.4599 - f1-score: 0.4943 - val_loss: 0.5427 - val_iou_score: 0.4238 - val_f1-score: 0.4878\n",
      "Epoch 4/50\n",
      "140/140 [==============================] - 67s 476ms/step - loss: 0.3751 - iou_score: 0.4532 - f1-score: 0.4908 - val_loss: 0.6073 - val_iou_score: 0.3786 - val_f1-score: 0.4533\n",
      "Epoch 5/50\n",
      "140/140 [==============================] - 72s 511ms/step - loss: 0.3723 - iou_score: 0.4546 - f1-score: 0.4924 - val_loss: 0.6177 - val_iou_score: 0.3803 - val_f1-score: 0.4595\n",
      "Epoch 6/50\n",
      "140/140 [==============================] - 74s 526ms/step - loss: 0.3682 - iou_score: 0.4596 - f1-score: 0.4989 - val_loss: 0.6064 - val_iou_score: 0.3962 - val_f1-score: 0.4617\n",
      "Epoch 7/50\n",
      "140/140 [==============================] - 73s 524ms/step - loss: 0.3611 - iou_score: 0.4637 - f1-score: 0.5011 - val_loss: 0.5400 - val_iou_score: 0.4356 - val_f1-score: 0.5002\n",
      "Epoch 8/50\n",
      "140/140 [==============================] - 73s 523ms/step - loss: 0.3646 - iou_score: 0.4689 - f1-score: 0.5052 - val_loss: 0.5561 - val_iou_score: 0.4034 - val_f1-score: 0.4755\n",
      "Epoch 9/50\n",
      "140/140 [==============================] - 73s 524ms/step - loss: 0.3656 - iou_score: 0.4681 - f1-score: 0.5069 - val_loss: 0.5815 - val_iou_score: 0.3994 - val_f1-score: 0.4731\n",
      "Epoch 10/50\n",
      "140/140 [==============================] - 74s 531ms/step - loss: 0.3683 - iou_score: 0.4582 - f1-score: 0.4977 - val_loss: 0.5366 - val_iou_score: 0.4088 - val_f1-score: 0.4752\n",
      "Epoch 11/50\n",
      "140/140 [==============================] - 71s 509ms/step - loss: 0.3594 - iou_score: 0.4724 - f1-score: 0.5109 - val_loss: 0.5888 - val_iou_score: 0.3897 - val_f1-score: 0.4646\n",
      "Epoch 12/50\n",
      "140/140 [==============================] - 66s 468ms/step - loss: 0.3572 - iou_score: 0.4825 - f1-score: 0.5194 - val_loss: 0.5514 - val_iou_score: 0.4184 - val_f1-score: 0.4865\n",
      "Epoch 13/50\n",
      "140/140 [==============================] - 67s 481ms/step - loss: 0.3779 - iou_score: 0.4540 - f1-score: 0.4877 - val_loss: 0.6241 - val_iou_score: 0.3540 - val_f1-score: 0.4294\n",
      "Epoch 14/50\n",
      "140/140 [==============================] - 63s 452ms/step - loss: 0.3644 - iou_score: 0.4622 - f1-score: 0.4990 - val_loss: 0.5913 - val_iou_score: 0.3733 - val_f1-score: 0.4463\n",
      "Epoch 15/50\n",
      "140/140 [==============================] - 63s 450ms/step - loss: 0.3591 - iou_score: 0.4670 - f1-score: 0.5008 - val_loss: 0.6020 - val_iou_score: 0.3994 - val_f1-score: 0.4725\n",
      "Epoch 16/50\n",
      "140/140 [==============================] - 63s 450ms/step - loss: 0.3534 - iou_score: 0.4863 - f1-score: 0.5228 - val_loss: 0.5589 - val_iou_score: 0.4040 - val_f1-score: 0.4756\n",
      "Epoch 17/50\n",
      "140/140 [==============================] - 63s 451ms/step - loss: 0.3569 - iou_score: 0.4785 - f1-score: 0.5143 - val_loss: 0.5901 - val_iou_score: 0.4173 - val_f1-score: 0.4879\n"
     ]
    }
   ],
   "source": [
    "# train model\n",
    "history_2 = model.fit_generator(\n",
    "    train_dataloader, \n",
    "    steps_per_epoch=len(train_dataloader), \n",
    "    epochs=50, \n",
    "    callbacks=callbacks, \n",
    "    validation_data=valid_dataloader, \n",
    "    validation_steps=len(valid_dataloader),\n",
    "    verbose = 1\n",
    ")"
   ]
  },
  {
   "cell_type": "code",
   "execution_count": 33,
   "metadata": {},
   "outputs": [
    {
     "name": "stdout",
     "output_type": "stream",
     "text": [
      "Epoch 1/50\n",
      "140/140 [==============================] - 63s 448ms/step - loss: 0.3623 - iou_score: 0.4758 - f1-score: 0.5125 - val_loss: 0.5908 - val_iou_score: 0.3825 - val_f1-score: 0.4578\n",
      "Epoch 2/50\n",
      "140/140 [==============================] - 64s 459ms/step - loss: 0.3505 - iou_score: 0.4994 - f1-score: 0.5346 - val_loss: 0.5993 - val_iou_score: 0.3748 - val_f1-score: 0.4511\n",
      "Epoch 3/50\n",
      "140/140 [==============================] - 65s 461ms/step - loss: 0.3539 - iou_score: 0.4884 - f1-score: 0.5230 - val_loss: 0.5553 - val_iou_score: 0.3816 - val_f1-score: 0.4545\n",
      "Epoch 4/50\n",
      "140/140 [==============================] - 64s 456ms/step - loss: 0.3542 - iou_score: 0.4892 - f1-score: 0.5248 - val_loss: 0.5935 - val_iou_score: 0.3732 - val_f1-score: 0.4503\n",
      "Epoch 5/50\n",
      "140/140 [==============================] - 63s 451ms/step - loss: 0.3510 - iou_score: 0.5038 - f1-score: 0.5407 - val_loss: 0.5744 - val_iou_score: 0.3931 - val_f1-score: 0.4692\n",
      "Epoch 6/50\n",
      "140/140 [==============================] - 63s 450ms/step - loss: 0.3549 - iou_score: 0.4954 - f1-score: 0.5332 - val_loss: 0.7406 - val_iou_score: 0.3415 - val_f1-score: 0.4108\n",
      "Epoch 7/50\n",
      "140/140 [==============================] - 63s 449ms/step - loss: 0.3629 - iou_score: 0.4727 - f1-score: 0.5090 - val_loss: 0.6295 - val_iou_score: 0.3654 - val_f1-score: 0.4391\n",
      "Epoch 8/50\n",
      "140/140 [==============================] - 63s 448ms/step - loss: 0.3554 - iou_score: 0.4856 - f1-score: 0.5200 - val_loss: 0.7129 - val_iou_score: 0.3437 - val_f1-score: 0.4254\n",
      "Epoch 9/50\n",
      "140/140 [==============================] - 63s 453ms/step - loss: 0.3525 - iou_score: 0.4872 - f1-score: 0.5257 - val_loss: 0.6605 - val_iou_score: 0.3474 - val_f1-score: 0.4275\n",
      "Epoch 10/50\n",
      "140/140 [==============================] - 63s 451ms/step - loss: 0.3505 - iou_score: 0.5114 - f1-score: 0.5464 - val_loss: 0.5413 - val_iou_score: 0.4102 - val_f1-score: 0.4780\n",
      "Epoch 11/50\n",
      "140/140 [==============================] - 63s 449ms/step - loss: 0.3587 - iou_score: 0.4890 - f1-score: 0.5256 - val_loss: 0.5442 - val_iou_score: 0.4210 - val_f1-score: 0.4870\n",
      "Epoch 12/50\n",
      "140/140 [==============================] - 63s 447ms/step - loss: 0.3600 - iou_score: 0.4725 - f1-score: 0.5086 - val_loss: 0.5363 - val_iou_score: 0.4554 - val_f1-score: 0.5158\n",
      "Epoch 13/50\n",
      "140/140 [==============================] - 63s 449ms/step - loss: 0.3504 - iou_score: 0.4841 - f1-score: 0.5189 - val_loss: 0.5611 - val_iou_score: 0.4153 - val_f1-score: 0.4890\n",
      "Epoch 14/50\n",
      "140/140 [==============================] - 63s 448ms/step - loss: 0.3543 - iou_score: 0.4973 - f1-score: 0.5330 - val_loss: 0.6573 - val_iou_score: 0.3522 - val_f1-score: 0.4335\n",
      "Epoch 15/50\n",
      "140/140 [==============================] - 63s 449ms/step - loss: 0.3555 - iou_score: 0.4909 - f1-score: 0.5247 - val_loss: 0.5497 - val_iou_score: 0.4342 - val_f1-score: 0.4910\n",
      "Epoch 16/50\n",
      "140/140 [==============================] - 63s 449ms/step - loss: 0.3538 - iou_score: 0.4704 - f1-score: 0.5046 - val_loss: 0.5696 - val_iou_score: 0.4310 - val_f1-score: 0.5023\n",
      "Epoch 17/50\n",
      "140/140 [==============================] - 63s 449ms/step - loss: 0.3504 - iou_score: 0.4844 - f1-score: 0.5215 - val_loss: 0.5892 - val_iou_score: 0.4263 - val_f1-score: 0.5025\n",
      "Epoch 18/50\n",
      "140/140 [==============================] - 63s 448ms/step - loss: 0.3517 - iou_score: 0.4837 - f1-score: 0.5207 - val_loss: 0.5268 - val_iou_score: 0.4304 - val_f1-score: 0.4952\n",
      "Epoch 19/50\n",
      "140/140 [==============================] - 65s 461ms/step - loss: 0.3518 - iou_score: 0.4942 - f1-score: 0.5318 - val_loss: 0.5599 - val_iou_score: 0.4097 - val_f1-score: 0.4811\n",
      "Epoch 20/50\n",
      "140/140 [==============================] - 64s 456ms/step - loss: 0.3474 - iou_score: 0.5111 - f1-score: 0.5467 - val_loss: 0.5945 - val_iou_score: 0.4209 - val_f1-score: 0.4889\n",
      "Epoch 21/50\n",
      "140/140 [==============================] - 65s 461ms/step - loss: 0.3499 - iou_score: 0.4902 - f1-score: 0.5271 - val_loss: 0.5677 - val_iou_score: 0.4185 - val_f1-score: 0.4873\n",
      "Epoch 22/50\n",
      "140/140 [==============================] - 63s 451ms/step - loss: 0.3468 - iou_score: 0.5320 - f1-score: 0.5664 - val_loss: 0.5787 - val_iou_score: 0.4070 - val_f1-score: 0.4805\n",
      "Epoch 23/50\n",
      "140/140 [==============================] - 63s 448ms/step - loss: 0.3514 - iou_score: 0.5230 - f1-score: 0.5589 - val_loss: 0.5480 - val_iou_score: 0.4618 - val_f1-score: 0.5289\n",
      "Epoch 24/50\n",
      "140/140 [==============================] - 64s 454ms/step - loss: 0.3419 - iou_score: 0.5270 - f1-score: 0.5599 - val_loss: 0.5501 - val_iou_score: 0.4782 - val_f1-score: 0.5464\n",
      "Epoch 25/50\n",
      "140/140 [==============================] - 65s 462ms/step - loss: 0.3423 - iou_score: 0.5372 - f1-score: 0.5733 - val_loss: 0.6169 - val_iou_score: 0.3842 - val_f1-score: 0.4564\n"
     ]
    }
   ],
   "source": [
    "# train model\n",
    "history_3 = model.fit_generator(\n",
    "    train_dataloader, \n",
    "    steps_per_epoch=len(train_dataloader), \n",
    "    epochs=50, \n",
    "    callbacks=callbacks, \n",
    "    validation_data=valid_dataloader, \n",
    "    validation_steps=len(valid_dataloader),\n",
    "    verbose = 1\n",
    ")"
   ]
  },
  {
   "cell_type": "code",
   "execution_count": null,
   "metadata": {},
   "outputs": [
    {
     "name": "stdout",
     "output_type": "stream",
     "text": [
      "Epoch 1/100\n",
      "140/140 [==============================] - 63s 449ms/step - loss: 0.3514 - iou_score: 0.5105 - f1-score: 0.5438 - val_loss: 0.5809 - val_iou_score: 0.4031 - val_f1-score: 0.4763\n",
      "Epoch 2/100\n",
      "140/140 [==============================] - 63s 450ms/step - loss: 0.3445 - iou_score: 0.5421 - f1-score: 0.5760 - val_loss: 0.5910 - val_iou_score: 0.4073 - val_f1-score: 0.4829\n",
      "Epoch 3/100\n",
      "140/140 [==============================] - 63s 451ms/step - loss: 0.3422 - iou_score: 0.5466 - f1-score: 0.5786 - val_loss: 0.6278 - val_iou_score: 0.3808 - val_f1-score: 0.4601\n",
      "Epoch 4/100\n",
      "140/140 [==============================] - 63s 449ms/step - loss: 0.3489 - iou_score: 0.5246 - f1-score: 0.5611 - val_loss: 0.5928 - val_iou_score: 0.3845 - val_f1-score: 0.4635\n",
      "Epoch 5/100\n",
      "140/140 [==============================] - 64s 455ms/step - loss: 0.3449 - iou_score: 0.4978 - f1-score: 0.5309 - val_loss: 0.6942 - val_iou_score: 0.3775 - val_f1-score: 0.4369\n",
      "Epoch 6/100\n",
      "140/140 [==============================] - 64s 455ms/step - loss: 0.3541 - iou_score: 0.4885 - f1-score: 0.5212 - val_loss: 0.6154 - val_iou_score: 0.3938 - val_f1-score: 0.4665\n",
      "Epoch 7/100\n",
      "140/140 [==============================] - 63s 453ms/step - loss: 0.3512 - iou_score: 0.4720 - f1-score: 0.5065 - val_loss: 0.5736 - val_iou_score: 0.4410 - val_f1-score: 0.5124\n",
      "Epoch 8/100\n",
      "140/140 [==============================] - 63s 449ms/step - loss: 0.3498 - iou_score: 0.4866 - f1-score: 0.5203 - val_loss: 0.5585 - val_iou_score: 0.4213 - val_f1-score: 0.4950\n",
      "Epoch 9/100\n",
      "140/140 [==============================] - 63s 447ms/step - loss: 0.3456 - iou_score: 0.4963 - f1-score: 0.5313 - val_loss: 0.6129 - val_iou_score: 0.4145 - val_f1-score: 0.4880\n",
      "Epoch 10/100\n",
      "140/140 [==============================] - 63s 448ms/step - loss: 0.3501 - iou_score: 0.4891 - f1-score: 0.5240 - val_loss: 0.5756 - val_iou_score: 0.4325 - val_f1-score: 0.5015\n",
      "Epoch 11/100\n",
      "140/140 [==============================] - 63s 449ms/step - loss: 0.3412 - iou_score: 0.4974 - f1-score: 0.5319 - val_loss: 0.5436 - val_iou_score: 0.4644 - val_f1-score: 0.5310\n",
      "Epoch 12/100\n",
      "140/140 [==============================] - 63s 448ms/step - loss: 0.3472 - iou_score: 0.5096 - f1-score: 0.5447 - val_loss: 0.5414 - val_iou_score: 0.4446 - val_f1-score: 0.5062\n",
      "Epoch 13/100\n",
      "140/140 [==============================] - 63s 450ms/step - loss: 0.3506 - iou_score: 0.5096 - f1-score: 0.5473 - val_loss: 0.6962 - val_iou_score: 0.3305 - val_f1-score: 0.4106\n",
      "Epoch 14/100\n",
      "140/140 [==============================] - 63s 450ms/step - loss: 0.3485 - iou_score: 0.4790 - f1-score: 0.5154 - val_loss: 0.5397 - val_iou_score: 0.4610 - val_f1-score: 0.5238\n",
      "Epoch 15/100\n",
      "140/140 [==============================] - 64s 459ms/step - loss: 0.3470 - iou_score: 0.5089 - f1-score: 0.5444 - val_loss: 0.5426 - val_iou_score: 0.4461 - val_f1-score: 0.5155\n",
      "Epoch 16/100\n",
      "140/140 [==============================] - 63s 450ms/step - loss: 0.3429 - iou_score: 0.5155 - f1-score: 0.5506 - val_loss: 0.5329 - val_iou_score: 0.4750 - val_f1-score: 0.5381\n",
      "Epoch 17/100\n",
      "140/140 [==============================] - 63s 451ms/step - loss: 0.3421 - iou_score: 0.5148 - f1-score: 0.5472 - val_loss: 0.5349 - val_iou_score: 0.4837 - val_f1-score: 0.5457\n",
      "Epoch 18/100\n",
      "140/140 [==============================] - 63s 449ms/step - loss: 0.3429 - iou_score: 0.5151 - f1-score: 0.5493 - val_loss: 0.5438 - val_iou_score: 0.4570 - val_f1-score: 0.5174\n",
      "Epoch 19/100\n",
      "140/140 [==============================] - 63s 451ms/step - loss: 0.3430 - iou_score: 0.5276 - f1-score: 0.5605 - val_loss: 0.5354 - val_iou_score: 0.4723 - val_f1-score: 0.5372\n",
      "Epoch 20/100\n",
      "140/140 [==============================] - 63s 450ms/step - loss: 0.3460 - iou_score: 0.4893 - f1-score: 0.5237 - val_loss: 0.5539 - val_iou_score: 0.4726 - val_f1-score: 0.5420\n",
      "Epoch 21/100\n",
      "119/140 [========================>.....] - ETA: 8s - loss: 0.3268 - iou_score: 0.5107 - f1-score: 0.5450"
     ]
    }
   ],
   "source": [
    "# train model\n",
    "history_3 = model.fit_generator(\n",
    "    train_dataloader, \n",
    "    steps_per_epoch=len(train_dataloader), \n",
    "    epochs=100, \n",
    "    callbacks=callbacks, \n",
    "    validation_data=valid_dataloader, \n",
    "    validation_steps=len(valid_dataloader),\n",
    "    verbose = 1\n",
    ")"
   ]
  },
  {
   "cell_type": "code",
   "execution_count": null,
   "metadata": {},
   "outputs": [],
   "source": [
    "plt.plot(history.history['val_iou_score'], label = 'val_iou')\n",
    "plt.plot(history.history['iou_score'], label = 'train_iou')\n",
    "plt.legend()\n",
    "plt.show()"
   ]
  },
  {
   "cell_type": "code",
   "execution_count": null,
   "metadata": {},
   "outputs": [],
   "source": [
    "testGen = DataGenerator(x_test, images, masks, labels, batch_size=5, reshape = (320, 320))"
   ]
  },
  {
   "cell_type": "code",
   "execution_count": null,
   "metadata": {},
   "outputs": [],
   "source": [
    "pred = model.predict_generator(testGen)"
   ]
  },
  {
   "cell_type": "code",
   "execution_count": null,
   "metadata": {},
   "outputs": [],
   "source": [
    "visualize(testGen[3][0][0:5], pred[15:20], title = 'Prediction')"
   ]
  },
  {
   "cell_type": "code",
   "execution_count": null,
   "metadata": {},
   "outputs": [],
   "source": [
    "plt.imshow(pred[0][:, :, 0], cmap = 'gray')"
   ]
  },
  {
   "cell_type": "code",
   "execution_count": null,
   "metadata": {},
   "outputs": [],
   "source": [
    "plt.imshow(pred[0][:, :, 1], cmap = 'gray')"
   ]
  },
  {
   "cell_type": "code",
   "execution_count": null,
   "metadata": {},
   "outputs": [],
   "source": [
    "plt.imshow(pred[0][:, :, 2], cmap = 'gray')"
   ]
  },
  {
   "cell_type": "code",
   "execution_count": null,
   "metadata": {},
   "outputs": [],
   "source": []
  }
 ],
 "metadata": {
  "kernelspec": {
   "display_name": "py36tf",
   "language": "python",
   "name": "py36tf"
  },
  "language_info": {
   "codemirror_mode": {
    "name": "ipython",
    "version": 3
   },
   "file_extension": ".py",
   "mimetype": "text/x-python",
   "name": "python",
   "nbconvert_exporter": "python",
   "pygments_lexer": "ipython3",
   "version": "3.6.8"
  }
 },
 "nbformat": 4,
 "nbformat_minor": 2
}
