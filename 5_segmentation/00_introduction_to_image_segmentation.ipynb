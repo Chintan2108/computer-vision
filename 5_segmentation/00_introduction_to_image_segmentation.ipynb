{
 "cells": [
  {
   "cell_type": "markdown",
   "metadata": {},
   "source": [
    "# What is _Image Segmentation_ ?\n",
    "\n",
    "segmenting an image means partitioning an image into different regions of homogenous pixels such that:\n",
    "\n",
    "- union of all regions = the image\n",
    "- each region is homogeneous. homogeneity can be based on criteria based on the problem one is trying to solve.\n",
    "- any pair of distinct regions is not homogeneous\n",
    "- regions shuld have low internal variance\n",
    "- regions should be made of spatially contiguous pixels\n",
    "\n",
    "These points are derived from Pavlidis's definitions of segmentation in [1]"
   ]
  },
  {
   "cell_type": "markdown",
   "metadata": {},
   "source": [
    "# How does segmentation help us ?\n",
    "\n",
    "Segmentation helps a machine interpret image easily and more accurately for complex tasks such as self driving car [2]\n",
    "\n",
    "<img src=\"..\\images\\indian-road-segmentation-1.PNG\" width = 700px height = 700px>\n",
    "\n",
    "<img src=\"..\\images\\indian-road-segmentation-2.PNG\" width = 700px height = 700px>\n"
   ]
  },
  {
   "cell_type": "markdown",
   "metadata": {},
   "source": [
    "# Types of Segmentation Techniques\n",
    "\n",
    "The following is a broad categorization of segmentation techniques:\n",
    "\n",
    "- Traditional Methods\n",
    "    - Non-Contextual\n",
    "      - Image Thresholding\n",
    "          - Simple Thresholding\n",
    "          - Adaptive Thresholding\n",
    "          - Color Thresholding\n",
    "          - Otsu's Threshold\n",
    "    - Contextual \n",
    "      - Pixel Connectivity\n",
    "      - Region Growing\n",
    "      - Clustering\n",
    "- Deep Learning Methods\n",
    "    - UNet\n",
    "    - LinkNet\n",
    "    - PSPNet\n",
    "    - FPN"
   ]
  },
  {
   "cell_type": "markdown",
   "metadata": {},
   "source": [
    "# References\n",
    "\n",
    "[1]. https://www2.cs.duke.edu/courses/spring06/cps296.1/handouts/Horowitz%20Pavlidis%201976.pdf\n",
    "\n",
    "[2]. https://idd.insaan.iiit.ac.in/media/publications/idd-650.pdf"
   ]
  },
  {
   "cell_type": "code",
   "execution_count": null,
   "metadata": {},
   "outputs": [],
   "source": []
  }
 ],
 "metadata": {
  "kernelspec": {
   "display_name": "Python 3",
   "language": "python",
   "name": "python3"
  },
  "language_info": {
   "codemirror_mode": {
    "name": "ipython",
    "version": 3
   },
   "file_extension": ".py",
   "mimetype": "text/x-python",
   "name": "python",
   "nbconvert_exporter": "python",
   "pygments_lexer": "ipython3",
   "version": "3.7.4"
  }
 },
 "nbformat": 4,
 "nbformat_minor": 2
}
