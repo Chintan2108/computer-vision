{
 "cells": [
  {
   "cell_type": "markdown",
   "metadata": {
    "slideshow": {
     "slide_type": "slide"
    }
   },
   "source": [
    "# Why Bother to Study _Computer Vision_ ?\n",
    "\n",
    "_Visual_ and _linguistic_ systems are perhaps the richest medium of reception for humans. Thus it comes inherently to us, to be driven for better understanding of the same. That I believe is the driving factor for the study of these amazing fields of computer vision and natural language.\n",
    "\n",
    "From a data science perspective, the boom in the availability of image sensors (read cameras) and processing power (read GPUs) has brought with it a great opportunity to makes sense of all this wealth of visual data both for personal and social use. This opportunity is a great motivating factor to pickup either of the two domains (viz. visual and lignuistic) and explore the different techniques, and master a few. \n",
    "\n",
    "The study of computer vision specially brings with it a chance of dealing with some very important and interesting problems which we shall see in the coming dicussion."
   ]
  },
  {
   "cell_type": "markdown",
   "metadata": {
    "slideshow": {
     "slide_type": "slide"
    }
   },
   "source": [
    "# Some Interesting Cases of using CV"
   ]
  },
  {
   "cell_type": "markdown",
   "metadata": {
    "slideshow": {
     "slide_type": "subslide"
    }
   },
   "source": [
    "## Smartphone Photography\n",
    "\n",
    "Probably the applications of CV which affects us the most frequently is that of smartphone photography. Figures below show couple of examples how computer vision is being used by different organizations to up their camera game\n",
    "\n",
    "<figure>\n",
    "    <img src=\"https://assets.newatlas.com/dims4/default/b563ebb/2147483647/strip/true/crop/1520x1013+140+0/resize/1200x800!/format/webp/quality/90/?url=http%3A%2F%2Fnewatlas-brightspot.s3.amazonaws.com%2Farchive%2Fnight-sight-1.jpg\" width = 700px/>\n",
    "    <figcaption style = \"text-align:center\">How Google's Pixel 3 enhances night photography using machine learning. Ref: \n",
    "        <a href=\"https://newatlas.com/pixel-night-sight-photo-samples/57329/\">Newatlas.com</a>\n",
    "    </figcaption>\n",
    "</figure>\n",
    "\n",
    "<p></p>\n",
    "\n",
    "<figure>\n",
    "    <img src=\"https://media2.giphy.com/media/oFJc3ghlbfBra/giphy.gif?cid=ecf05e47c88b67a6a3c064fea66d26f28f3ffdd07f297217&rid=giphy.gif\" width = 200px/>\n",
    "    <figcaption style = \"text-align:center\">Snapchat Filters. Ref: \n",
    "        <a href=\"https://giphy.com/gifs/snapchat-jimmy-falllon-oFJc3ghlbfBra\">Giphy.com</a>\n",
    "    </figcaption>\n",
    "</figure>\n",
    "\n",
    "\n",
    "Another application which has become a daily phenomenon in the recent past if Face Unlock. Apple aces the face unlock game by using specific sensors along with advanced image processing methods. Check out this youtube video below for an interesting review.\n",
    "\n",
    "[![](http://img.youtube.com/vi/FhbMLmsCax0/0.jpg)](http://www.youtube.com/watch?v=FhbMLmsCax0)\n",
    "\n",
    "\n",
    "A rather fun example of using image processing to develop interesting and engaging application is that of Google's AutoDraw [4]\n",
    "<figure>\n",
    "    <img src=\"https://lh3.googleusercontent.com/45A1WoYjfG4pc5cYAoSUjThN3iheu9Ipb9Lb1juUR5TA7pJh4p90jZ59r9HhL0pKJah1RE2QmfIh2VyQHB_a81iUZPdICK1AolNP=s850\" width = 700px/>\n",
    "    <figcaption style = \"text-align:center\">Google AutoDraw. Ref: \n",
    "        <a href=\"https://giphy.com/gifs/snapchat-jimmy-falllon-oFJc3ghlbfBra\">Giphy.com</a>\n",
    "    </figcaption>\n",
    "</figure>\n",
    "\n",
    "Some other examples which are buzz words for all practical purposes right now but will very soon be an integral part of our lives are monitoring crowded places using object detection and self driving cars.\n",
    "\n",
    "[![](http://img.youtube.com/vi/VOC3huqHrss/0.jpg)](http://www.youtube.com/watch?v=VOC3huqHrss \"\")\n",
    "\n",
    "[![](http://img.youtube.com/vi/CxanE_W46ts/0.jpg)](http://www.youtube.com/watch?v=CxanE_W46ts \"\")\n",
    "\n",
    "An upcoming field filled with awesoe possibility which is closely tied with computer vision is Augmented Reality. Below is a very innocative use case of **AR + CV** I found on Twitter"
   ]
  },
  {
   "cell_type": "code",
   "execution_count": 4,
   "metadata": {},
   "outputs": [
    {
     "data": {
      "text/html": [
       "<blockquote class=\"twitter-tweet\"><p lang=\"en\" dir=\"ltr\">5/10 - From books to presentations in 10s with AR+ML<br><br>Code: <a href=\"https://t.co/17tkhLw35T\">https://t.co/17tkhLw35T</a><br><br>Art: Molecule Shoes by <a href=\"https://twitter.com/francisbitonti?ref_src=twsrc%5Etfw\">@francisbitonti</a>, 2014<br>Book: Coder Le Monde (Editions Hyx 2018 <a href=\"https://twitter.com/CentrePompidou?ref_src=twsrc%5Etfw\">@centrepompidou</a>)<br>Technical Insights: ↓<a href=\"https://twitter.com/hashtag/ML?src=hash&amp;ref_src=twsrc%5Etfw\">#ML</a> <a href=\"https://twitter.com/hashtag/AR?src=hash&amp;ref_src=twsrc%5Etfw\">#AR</a> <a href=\"https://twitter.com/hashtag/AI?src=hash&amp;ref_src=twsrc%5Etfw\">#AI</a> <a href=\"https://twitter.com/hashtag/AIUX?src=hash&amp;ref_src=twsrc%5Etfw\">#AIUX</a> <a href=\"https://twitter.com/hashtag/Keynote?src=hash&amp;ref_src=twsrc%5Etfw\">#Keynote</a> <a href=\"https://twitter.com/hashtag/Powerpoint?src=hash&amp;ref_src=twsrc%5Etfw\">#Powerpoint</a> <a href=\"https://twitter.com/hashtag/GoogleDocs?src=hash&amp;ref_src=twsrc%5Etfw\">#GoogleDocs</a> <a href=\"https://t.co/O2sZmXCuJf\">pic.twitter.com/O2sZmXCuJf</a></p>&mdash; Cyril Diagne (@cyrildiagne) <a href=\"https://twitter.com/cyrildiagne/status/1259441154606669824?ref_src=twsrc%5Etfw\">May 10, 2020</a></blockquote> <script async src=\"https://platform.twitter.com/widgets.js\" charset=\"utf-8\"></script>"
      ],
      "text/plain": [
       "<__main__.Tweet at 0x1d6209fb788>"
      ]
     },
     "execution_count": 4,
     "metadata": {},
     "output_type": "execute_result"
    }
   ],
   "source": [
    "class Tweet(object):\n",
    "    def __init__(self, embed_str=None):\n",
    "        self.embed_str = embed_str\n",
    "\n",
    "    def _repr_html_(self):\n",
    "        return self.embed_str\n",
    "    \n",
    "Tweet(\"\"\"<blockquote class=\"twitter-tweet\"><p lang=\"en\" dir=\"ltr\">5/10 - From books to presentations in 10s with AR+ML<br><br>Code: <a href=\"https://t.co/17tkhLw35T\">https://t.co/17tkhLw35T</a><br><br>Art: Molecule Shoes by <a href=\"https://twitter.com/francisbitonti?ref_src=twsrc%5Etfw\">@francisbitonti</a>, 2014<br>Book: Coder Le Monde (Editions Hyx 2018 <a href=\"https://twitter.com/CentrePompidou?ref_src=twsrc%5Etfw\">@centrepompidou</a>)<br>Technical Insights: ↓<a href=\"https://twitter.com/hashtag/ML?src=hash&amp;ref_src=twsrc%5Etfw\">#ML</a> <a href=\"https://twitter.com/hashtag/AR?src=hash&amp;ref_src=twsrc%5Etfw\">#AR</a> <a href=\"https://twitter.com/hashtag/AI?src=hash&amp;ref_src=twsrc%5Etfw\">#AI</a> <a href=\"https://twitter.com/hashtag/AIUX?src=hash&amp;ref_src=twsrc%5Etfw\">#AIUX</a> <a href=\"https://twitter.com/hashtag/Keynote?src=hash&amp;ref_src=twsrc%5Etfw\">#Keynote</a> <a href=\"https://twitter.com/hashtag/Powerpoint?src=hash&amp;ref_src=twsrc%5Etfw\">#Powerpoint</a> <a href=\"https://twitter.com/hashtag/GoogleDocs?src=hash&amp;ref_src=twsrc%5Etfw\">#GoogleDocs</a> <a href=\"https://t.co/O2sZmXCuJf\">pic.twitter.com/O2sZmXCuJf</a></p>&mdash; Cyril Diagne (@cyrildiagne) <a href=\"https://twitter.com/cyrildiagne/status/1259441154606669824?ref_src=twsrc%5Etfw\">May 10, 2020</a></blockquote> <script async src=\"https://platform.twitter.com/widgets.js\" charset=\"utf-8\"></script>\"\"\")"
   ]
  },
  {
   "cell_type": "markdown",
   "metadata": {
    "slideshow": {
     "slide_type": "subslide"
    }
   },
   "source": [
    "## Computer Vision Across Industries\n",
    "\n",
    "The image below shows an industry wise view of the applications of CV\n",
    "<img src=\"https://www.google.com/url?sa=i&url=https%3A%2F%2Findatalabs.com%2Fblog%2Fapplications-computer-vision-across-industries&psig=AOvVaw17017RLYrHAdUDQTfd-Epf&ust=1587384570128000&source=images&cd=vfe&ved=0CAIQjRxqFwoTCKD39NO69OgCFQAAAAAdAAAAABAE\" width = 700px height = 700px>"
   ]
  },
  {
   "cell_type": "markdown",
   "metadata": {},
   "source": [
    "## What's Up with Academia\n",
    "\n",
    "CV is an old field and the academia keeps on working on new techniques. Some examples of the latest academic work in computer vision are Style transfer using GANs and Deep Fakes.\n",
    "\n",
    "<figure>\n",
    "    <img src=\"https://miro.medium.com/max/1200/1*XI3beonBnOwp-y5BwNOqCw.gif\" width = 500px/>\n",
    "    <figcaption style = \"text-align:center\">Pablo Picasso painting on glass in 1937. Ref: \n",
    "        <a href=\"https://medium.com/data-science-group-iitr/artistic-style-transfer-with-convolutional-neural-network-7ce2476039fd\">Artistic Style Transfer with Convolutional Neural Network</a>\n",
    "    </figcaption>\n",
    "</figure>\n",
    "\n",
    "<br/>\n",
    "\n",
    "<figure>\n",
    "    <img src=\"https://img.izismile.com/img/img12/20191008/gifs/dont_give_deepfake_videos_to_the_internet_05.gif\" width = 500px/>\n",
    "    <figcaption style = \"text-align:center\">Jennifer Lawrence with Steve Buscemi’s face. Ref: \n",
    "        <a href=\"https://izismile.com/2019/10/08/dont_give_deepfake_videos_to_the_internet_13_gifs.html\">Don’t Give Deepfake Videos To The Internet!</a>\n",
    "    </figcaption>\n",
    "</figure>"
   ]
  },
  {
   "cell_type": "code",
   "execution_count": null,
   "metadata": {},
   "outputs": [],
   "source": []
  }
 ],
 "metadata": {
  "kernelspec": {
   "display_name": "Python 3",
   "language": "python",
   "name": "python3"
  },
  "language_info": {
   "codemirror_mode": {
    "name": "ipython",
    "version": 3
   },
   "file_extension": ".py",
   "mimetype": "text/x-python",
   "name": "python",
   "nbconvert_exporter": "python",
   "pygments_lexer": "ipython3",
   "version": "3.7.4"
  }
 },
 "nbformat": 4,
 "nbformat_minor": 2
}
