{
 "cells": [
  {
   "cell_type": "markdown",
   "metadata": {
    "slideshow": {
     "slide_type": "slide"
    }
   },
   "source": [
    "# Why Bother to Study _Computer Vision_ ?\n",
    "\n",
    "Visual and linguistic systems are perhaps the richest medium of reception for humans. Thus it comes inherently to us, to be driven for better understanding of the same. That I believe is the driving factor for the study of any field for that matter.\n",
    "\n",
    "From a data science perspective, the boom in the availability of image sensors (read cameras) and processing power (read GPUs) has brought with it a great opportunity to makes sense of all this wealth of visual data both for personal and social use. This opportunity is a great motivating factor to pickup either of the two domains (viz. visual and lignuistic) and explore the different techniques, and master a few. \n",
    "\n",
    "The study of computer vision specially brings with it a chance of dealing with some very important and interesting problems which we shall see in the coming dicussion."
   ]
  },
  {
   "cell_type": "markdown",
   "metadata": {
    "slideshow": {
     "slide_type": "slide"
    }
   },
   "source": [
    "# Interesting CV Examples"
   ]
  },
  {
   "cell_type": "markdown",
   "metadata": {
    "slideshow": {
     "slide_type": "subslide"
    }
   },
   "source": [
    "## Smartphone Night Photography\n",
    "\n",
    "Probably the application of CV which affects us the most frequently is that of smartphone photography. Figure below ([1]) shows \n",
    "\n",
    "<img src=\"https://assets.newatlas.com/dims4/default/b563ebb/2147483647/strip/true/crop/1520x1013+140+0/resize/1200x800!/format/webp/quality/90/?url=http%3A%2F%2Fnewatlas-brightspot.s3.amazonaws.com%2Farchive%2Fnight-sight-1.jpg\" width = 700px height = 700px>\n",
    "\n",
    "Another application which has become a daily phenomenon in the recent past if Face Unlock. Apple aces the face unlock game by using specific sensors along with advanced image processing methods. The figure below shows the registration process for Apple's Face ID [2]. Check out this youtube video [3] for an interesting review.\n",
    "<img src=\"https://www.google.com/url?sa=i&url=https%3A%2F%2Fgiphy.com%2Fgifs%2Fproducthunt-apple-event-face-id-3ov9k51z2wOLqByLLy&psig=AOvVaw2pxIs_8fNgYcAnmi3cvyp6&ust=1587383824867000&source=images&cd=vfe&ved=0CAIQjRxqFwoTCJD8_9239OgCFQAAAAAdAAAAABAD\" width = 700px height = 700px>\n",
    "\n",
    "A rather fun example of using image processing to develop interesting and engaging application is that of Google's AutoDraw [4]\n",
    "<img src=\"https://lh3.googleusercontent.com/45A1WoYjfG4pc5cYAoSUjThN3iheu9Ipb9Lb1juUR5TA7pJh4p90jZ59r9HhL0pKJah1RE2QmfIh2VyQHB_a81iUZPdICK1AolNP=s850\" width = 700px height = 700px>\n",
    "\n",
    "Some other examples which are buzz words for all practical purposes right now but will very soon be an integral part of our lives are monitoring crowded places using object detection [5] and self driving cars [6].\n",
    "\n",
    "<iframe width=\"560\" height=\"315\" src=\"https://www.youtube.com/watch?v=VOC3huqHrss\" frameborder=\"0\" allowfullscreen></iframe>\n",
    "\n",
    "<iframe width=\"560\" height=\"315\" src=\"https://www.youtube.com/watch?v=CxanE_W46ts&t=28s\" frameborder=\"0\" allowfullscreen></iframe>"
   ]
  },
  {
   "cell_type": "markdown",
   "metadata": {
    "slideshow": {
     "slide_type": "subslide"
    }
   },
   "source": [
    "## Computer Vision Across Industries\n",
    "\n",
    "The image below shows an industry wise view of the applications of CV\n",
    "<img src=\"https://www.google.com/url?sa=i&url=https%3A%2F%2Findatalabs.com%2Fblog%2Fapplications-computer-vision-across-industries&psig=AOvVaw17017RLYrHAdUDQTfd-Epf&ust=1587384570128000&source=images&cd=vfe&ved=0CAIQjRxqFwoTCKD39NO69OgCFQAAAAAdAAAAABAE\" width = 700px height = 700px>"
   ]
  },
  {
   "cell_type": "markdown",
   "metadata": {},
   "source": [
    "# What's Up with Academia\n",
    "\n",
    "CV is an old field and the academia keeps on working on new techniques. Some examples of the latest academic work in computer vision and deep learning are Style transfer GANs [7] and Deep Fakes [8].\n",
    "\n",
    "<img src=\"https://www.google.com/url?sa=i&url=https%3A%2F%2Fmedium.com%2Fdata-science-group-iitr%2Fartistic-style-transfer-with-convolutional-neural-network-7ce2476039fd&psig=AOvVaw0x8633y6-eHfVlnj1c81G-&ust=1587384731254000&source=images&cd=vfe&ved=0CAIQjRxqFwoTCND18Yq79OgCFQAAAAAdAAAAABAD\" width = 700px height = 700px>\n",
    "\n",
    "<img src=\"https://www.google.com/url?sa=i&url=https%3A%2F%2Fizismile.com%2F2019%2F10%2F08%2Fdont_give_deepfake_videos_to_the_internet_13_gifs.html&psig=AOvVaw222XE_1xNMsHUskrjoZmbT&ust=1587385002235000&source=images&cd=vfe&ved=0CAIQjRxqFwoTCICz8I289OgCFQAAAAAdAAAAABAZ\" width = 700px height = 700px>"
   ]
  },
  {
   "cell_type": "markdown",
   "metadata": {},
   "source": [
    "# References\n",
    "\n",
    "[1] https://newatlas.com/pixel-night-sight-photo-samples/57329/\n",
    "\n",
    "[2] https://www.wsj.com/articles/iphone-x-how-we-tested-and-tricked-faceid-1509465766\n",
    "\n",
    "[3] https://www.youtube.com/watch?v=FhbMLmsCax0\n",
    "\n",
    "[4] https://experiments.withgoogle.com/autodraw \n",
    "\n",
    "[7] https://medium.com/data-science-group-iitr/artistic-style-transfer-with-convolutional-neural-network-7ce2476039fd\n",
    "\n",
    "[8] \n",
    "\n"
   ]
  },
  {
   "cell_type": "code",
   "execution_count": null,
   "metadata": {},
   "outputs": [],
   "source": []
  }
 ],
 "metadata": {
  "celltoolbar": "Slideshow",
  "kernelspec": {
   "display_name": "Python 3",
   "language": "python",
   "name": "python3"
  },
  "language_info": {
   "codemirror_mode": {
    "name": "ipython",
    "version": 3
   },
   "file_extension": ".py",
   "mimetype": "text/x-python",
   "name": "python",
   "nbconvert_exporter": "python",
   "pygments_lexer": "ipython3",
   "version": "3.7.4"
  }
 },
 "nbformat": 4,
 "nbformat_minor": 2
}
