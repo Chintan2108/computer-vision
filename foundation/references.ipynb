{
 "cells": [
  {
   "cell_type": "markdown",
   "metadata": {},
   "source": [
    "# Chapter 1 - How Computers See?\n",
    "\n",
    " - https://people.cs.clemson.edu/~dhouse/courses/405/notes/pixmaps-rgb.pdf\n",
    " - https://www.ephotozine.com/article/complete-guide-to-image-sensor-pixel-size-29652\n",
    " - http://www.sci.utah.edu/~acoste/uou/Image/project1/Arthur_COSTE_Project_1_report.html\n",
    " - https://docs.opencv.org/3.4/d3/dc1/tutorial_basic_linear_transform.html"
   ]
  },
  {
   "cell_type": "markdown",
   "metadata": {},
   "source": [
    "# Chapter 2 - Convolution\n",
    "\n",
    " - https://colah.github.io/posts/2014-07-Understanding-Convolutions/\n",
    " - https://leonardoaraujosantos.gitbooks.io/artificial-inteligence/content/convolution.html\n",
    " - https://www.superdatascience.com/blogs/convolutional-neural-networks-cnn-step-1-convolution-operation/"
   ]
  },
  {
   "cell_type": "markdown",
   "metadata": {},
   "source": [
    "# Chapter 3 - Edge Detection\n",
    "\n",
    " - http://www.cse.usf.edu/~r1k/MachineVisionBook/MachineVision.files/MachineVision_Chapter5.pdf\n",
    " - https://www.cse.unr.edu/~bebis/CS791E/Notes/EdgeDetection.pdf\n",
    " - https://www.owlnet.rice.edu/~elec539/Projects97/morphjrks/moredge.html"
   ]
  },
  {
   "cell_type": "markdown",
   "metadata": {},
   "source": [
    "# Chapter 4 - Morphological Operations\n",
    "\n",
    " - http://www.cse.iitd.ernet.in/~pkalra/csl783/Morphological.pdf\n",
    " - https://www.cs.auckland.ac.nz/courses/compsci773s1c/lectures/ImageProcessing-html/topic4.htm"
   ]
  },
  {
   "cell_type": "markdown",
   "metadata": {},
   "source": [
    "# Other Cool Stuff\n",
    "\n",
    " - Courses:\n",
    "   - http://cs.brown.edu/courses/cs143/\n",
    "   - http://cs231n.stanford.edu/\n",
    " \n",
    " - Blogs:\n",
    "   - https://pyimagesearch.com\n",
    "   - https://www.learnopencv.com/\n",
    "\n",
    " - Github:\n",
    "   - https://github.com/jbhuang0604/awesome-computer-vision\n",
    "   - https://github.com/kjw0612/awesome-deep-vision\n",
    "   - https://github.com/jrosebr1/imutils"
   ]
  },
  {
   "cell_type": "code",
   "execution_count": null,
   "metadata": {},
   "outputs": [],
   "source": []
  }
 ],
 "metadata": {
  "kernelspec": {
   "display_name": "Python 3",
   "language": "python",
   "name": "python3"
  },
  "language_info": {
   "codemirror_mode": {
    "name": "ipython",
    "version": 3
   },
   "file_extension": ".py",
   "mimetype": "text/x-python",
   "name": "python",
   "nbconvert_exporter": "python",
   "pygments_lexer": "ipython3",
   "version": "3.5.4"
  }
 },
 "nbformat": 4,
 "nbformat_minor": 2
}
