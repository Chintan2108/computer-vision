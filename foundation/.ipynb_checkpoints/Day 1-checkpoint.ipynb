{
 "cells": [
  {
   "cell_type": "markdown",
   "metadata": {},
   "source": [
    "# Hands On for Day 1"
   ]
  },
  {
   "cell_type": "code",
   "execution_count": null,
   "metadata": {},
   "outputs": [],
   "source": [
    "# Importing libraries\n",
    "import cv2\n",
    "import sys\n",
    "import imutils\n",
    "import numpy as np\n",
    "import matplotlib.pyplot as plt\n",
    "import matplotlib.gridspec as gridspec\n",
    "np.set_printoptions(threshold=sys.maxsize, linewidth = 120)"
   ]
  },
  {
   "cell_type": "code",
   "execution_count": null,
   "metadata": {},
   "outputs": [],
   "source": [
    "path = 'path/to/your/image'"
   ]
  },
  {
   "cell_type": "code",
   "execution_count": null,
   "metadata": {},
   "outputs": [],
   "source": [
    "# Reading a sample image\n",
    "img = cv2.imread(path)\n",
    "img = cv2.cvtColor(img, cv2.COLOR_BGR2GRAY)\n",
    "image = img.copy()"
   ]
  },
  {
   "cell_type": "markdown",
   "metadata": {},
   "source": [
    "## Image Spatial Resolution"
   ]
  },
  {
   "cell_type": "code",
   "execution_count": null,
   "metadata": {},
   "outputs": [],
   "source": [
    "# Binning function\n",
    "def spatial_binning(im, fac = 2):\n",
    "    res = np.ones(im.shape)\n",
    "    for i in range(0, res.shape[0], fac):\n",
    "        for j in range(0, res.shape[1], fac):\n",
    "            res[i:i+fac, j:j+fac] = np.average(im[i:i+fac, j:j+fac])\n",
    "    res[:,:] = 255*res[:,:]/np.max(res[:,:])\n",
    "    return res"
   ]
  },
  {
   "cell_type": "code",
   "execution_count": null,
   "metadata": {},
   "outputs": [],
   "source": [
    "factor = 16\n",
    "res = spatial_binning(image, fac = factor)\n",
    "f, (ax1, ax2) = plt.subplots(1, 2, figsize = (50,20))\n",
    "f.suptitle('Lowering the spatial resolution of an image', fontsize=64)\n",
    "ax1.imshow(image, cmap='gray', vmin=0, vmax=255)\n",
    "ax1.set_title('Original Image', fontsize=64)\n",
    "ax2.imshow(res, cmap='gray', vmin=0, vmax=255)\n",
    "ax2.set_title('Low Resolution Image', fontsize=60)\n",
    "plt.show()"
   ]
  },
  {
   "cell_type": "markdown",
   "metadata": {},
   "source": [
    "## Histogram Stretch"
   ]
  },
  {
   "cell_type": "code",
   "execution_count": null,
   "metadata": {},
   "outputs": [],
   "source": [
    "path = 'path/to/your/image'"
   ]
  },
  {
   "cell_type": "code",
   "execution_count": null,
   "metadata": {},
   "outputs": [],
   "source": [
    "# Reading a sample image\n",
    "img = cv2.imread(path)\n",
    "img = cv2.cvtColor(img, cv2.COLOR_BGR2RGB)\n",
    "image = img.copy()"
   ]
  },
  {
   "cell_type": "code",
   "execution_count": null,
   "metadata": {},
   "outputs": [],
   "source": [
    "# Histogram stretch function\n",
    "def stretch(im):\n",
    "    temp = im.copy()\n",
    "    for i in range(im.shape[2]):\n",
    "        minI    = np.min(im[:,:,i])\n",
    "        maxI    = np.max(im[:,:,i])\n",
    "        minO    = 0\n",
    "        maxO    = 255\n",
    "\n",
    "        temp[:,:,i] = (im[:,:,i]-minI)*(((maxO-minO)/(maxI-minI))+minO)\n",
    "    \n",
    "    return temp"
   ]
  },
  {
   "cell_type": "code",
   "execution_count": null,
   "metadata": {},
   "outputs": [],
   "source": [
    "res = stretch(image)\n",
    "f, (ax1, ax2) = plt.subplots(1, 2, figsize = (50,20))\n",
    "f.suptitle('Histogram stretch comparison', fontsize=64)\n",
    "ax1.imshow(img, cmap='gray', vmin=0, vmax=255)\n",
    "ax1.set_title('Original Image', fontsize=64)\n",
    "ax2.imshow(res, cmap='gray', vmin=0, vmax=255)\n",
    "ax2.set_title('Image after histogram stretch', fontsize=60)\n",
    "plt.show()"
   ]
  },
  {
   "cell_type": "code",
   "execution_count": null,
   "metadata": {},
   "outputs": [],
   "source": []
  }
 ],
 "metadata": {
  "kernelspec": {
   "display_name": "Python 3",
   "language": "python",
   "name": "python3"
  },
  "language_info": {
   "codemirror_mode": {
    "name": "ipython",
    "version": 3
   },
   "file_extension": ".py",
   "mimetype": "text/x-python",
   "name": "python",
   "nbconvert_exporter": "python",
   "pygments_lexer": "ipython3",
   "version": "3.5.4"
  }
 },
 "nbformat": 4,
 "nbformat_minor": 2
}
